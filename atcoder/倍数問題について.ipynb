{
  "nbformat": 4,
  "nbformat_minor": 0,
  "metadata": {
    "colab": {
      "provenance": [],
      "authorship_tag": "ABX9TyMF+GfYGz56zv2rig/Moy7F",
      "include_colab_link": true
    },
    "kernelspec": {
      "name": "python3",
      "display_name": "Python 3"
    },
    "language_info": {
      "name": "python"
    }
  },
  "cells": [
    {
      "cell_type": "markdown",
      "metadata": {
        "id": "view-in-github",
        "colab_type": "text"
      },
      "source": [
        "<a href=\"https://colab.research.google.com/github/nakampany/kyoupro/blob/main/atcoder/%E5%80%8D%E6%95%B0%E5%95%8F%E9%A1%8C%E3%81%AB%E3%81%A4%E3%81%84%E3%81%A6.ipynb\" target=\"_parent\"><img src=\"https://colab.research.google.com/assets/colab-badge.svg\" alt=\"Open In Colab\"/></a>"
      ]
    },
    {
      "cell_type": "markdown",
      "source": [
        "# 1.倍数問題について"
      ],
      "metadata": {
        "id": "qmXSAsPEioXV"
      }
    },
    {
      "cell_type": "markdown",
      "source": [
        "a と b の積が偶数か奇数か判定してください。"
      ],
      "metadata": {
        "id": "s0TlAkqzbwoO"
      }
    },
    {
      "cell_type": "markdown",
      "source": [
        "3 4\n",
        "\n",
        "→Even"
      ],
      "metadata": {
        "id": "AU6XenG3f43q"
      }
    },
    {
      "cell_type": "code",
      "source": [
        "a, b = map(int, input().split())\n",
        "\n",
        "x = a*b\n",
        "\n",
        "if x%2 == 0:\n",
        "  print('Even')\n",
        "else:\n",
        "  print('Odd')"
      ],
      "metadata": {
        "colab": {
          "base_uri": "https://localhost:8080/"
        },
        "id": "kUASTkFcbwUG",
        "outputId": "e66eba8c-2418-4211-be6d-b4007da45f35"
      },
      "execution_count": null,
      "outputs": [
        {
          "output_type": "stream",
          "name": "stdout",
          "text": [
            "3 4\n",
            "Even\n"
          ]
        }
      ]
    },
    {
      "cell_type": "markdown",
      "source": [
        "4 3 2\n",
        "\n",
        "→YES"
      ],
      "metadata": {
        "id": "xhxOfQv9f78K"
      }
    },
    {
      "cell_type": "code",
      "source": [
        "r, g, b= map(int, input().split())\n",
        "\n",
        "# 百の位は何であれ、4で割り切れるかどうかは十の位と一の位のみが影響している\n",
        "if ((10*g + b) % 4 == 0):\n",
        "  print('YES')\n",
        "else:\n",
        "  print('NO')"
      ],
      "metadata": {
        "colab": {
          "base_uri": "https://localhost:8080/"
        },
        "id": "2itM5-QGgKcd",
        "outputId": "ce8abd84-e32c-4fbe-a5a5-9ace9e377693"
      },
      "execution_count": null,
      "outputs": [
        {
          "output_type": "stream",
          "name": "stdout",
          "text": [
            "2 3 4\n",
            "NO\n"
          ]
        }
      ]
    },
    {
      "cell_type": "markdown",
      "source": [
        "2018\n",
        "\n",
        "218\n",
        "\n",
        "→Yes"
      ],
      "metadata": {
        "id": "vgYDidfjgMfn"
      }
    },
    {
      "cell_type": "code",
      "source": [
        "N = int(input())\n",
        "A = int(input())\n",
        "\n",
        "n = N%500\n",
        "\n",
        "if n <= A:\n",
        "    print('Yes')\n",
        "else:\n",
        "  print('No')"
      ],
      "metadata": {
        "colab": {
          "base_uri": "https://localhost:8080/"
        },
        "id": "vf9TJhO4hf1A",
        "outputId": "48b14cc1-fd59-4400-9bd6-615e9bfd0179"
      },
      "execution_count": null,
      "outputs": [
        {
          "output_type": "stream",
          "name": "stdout",
          "text": [
            "2000\n",
            "190\n",
            "Yes\n"
          ]
        }
      ]
    },
    {
      "cell_type": "markdown",
      "source": [
        "1 3\n",
        "\n",
        "→2\n",
        "\n"
      ],
      "metadata": {
        "id": "D_sL7alUgX_3"
      }
    },
    {
      "cell_type": "code",
      "source": [
        "import math\n",
        "a, b = map(int, input().split())\n",
        "x = (a + b)/2\n",
        "# 切り上げ math.ceil(x)\n",
        "# 切り捨て math.floor(x)\n",
        "print(math.ceil(x))"
      ],
      "metadata": {
        "id": "yFfHpNLrgtm9"
      },
      "execution_count": null,
      "outputs": []
    }
  ]
}