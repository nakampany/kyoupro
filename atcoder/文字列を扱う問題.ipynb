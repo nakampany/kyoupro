{
  "nbformat": 4,
  "nbformat_minor": 0,
  "metadata": {
    "colab": {
      "provenance": [],
      "authorship_tag": "ABX9TyNvp1j+opK0qhi4vOPteI8h",
      "include_colab_link": true
    },
    "kernelspec": {
      "name": "python3",
      "display_name": "Python 3"
    },
    "language_info": {
      "name": "python"
    }
  },
  "cells": [
    {
      "cell_type": "markdown",
      "metadata": {
        "id": "view-in-github",
        "colab_type": "text"
      },
      "source": [
        "<a href=\"https://colab.research.google.com/github/nakampany/kyoupro/blob/main/atcoder/%E6%96%87%E5%AD%97%E5%88%97%E3%82%92%E6%89%B1%E3%81%86%E5%95%8F%E9%A1%8C.ipynb\" target=\"_parent\"><img src=\"https://colab.research.google.com/assets/colab-badge.svg\" alt=\"Open In Colab\"/></a>"
      ]
    },
    {
      "cell_type": "markdown",
      "source": [
        "# 2. 文字列を扱う問題"
      ],
      "metadata": {
        "id": "eaKRD7i0dbl5"
      }
    },
    {
      "cell_type": "markdown",
      "source": [
        "101\n",
        "\n",
        "→2\n"
      ],
      "metadata": {
        "id": "pTrm5SyIhXmA"
      }
    },
    {
      "cell_type": "code",
      "execution_count": null,
      "metadata": {
        "colab": {
          "base_uri": "https://localhost:8080/"
        },
        "id": "Bsd7ZIFkbu6p",
        "outputId": "28b2e023-be95-4071-beda-814e80305eb9"
      },
      "outputs": [
        {
          "output_type": "stream",
          "name": "stdout",
          "text": [
            "011\n",
            "2\n"
          ]
        }
      ],
      "source": [
        "s = input()\n",
        "\n",
        "#str型の中に1が何個あるか？\n",
        "print(s.count('1'))"
      ]
    },
    {
      "cell_type": "markdown",
      "source": [
        "oxo\n",
        "\n",
        "→900"
      ],
      "metadata": {
        "id": "Meu7-s8Bhcn5"
      }
    },
    {
      "cell_type": "code",
      "source": [
        "s = input()\n",
        "\n",
        "#str型の中にoが何個あるか？\n",
        "if s.count('o') == 0:\n",
        "  print('700')\n",
        "elif s.count('o') == 1:\n",
        "  print('800')\n",
        "elif s.count('o') == 2:\n",
        "  print('900')\n",
        "elif s.count('o') == 3:\n",
        "  print('1000')\n",
        "else:\n",
        "  \n",
        "  \n",
        "# S = input()\n",
        "# Y = S.count('o')*100\n",
        "# print(700+Y)"
      ],
      "metadata": {
        "id": "IjJ-uloOfx0s"
      },
      "execution_count": null,
      "outputs": []
    },
    {
      "cell_type": "markdown",
      "source": [
        "2017/01/07\n",
        "\n",
        "→2018/01/07"
      ],
      "metadata": {
        "id": "9D31mRW-iKuf"
      }
    },
    {
      "cell_type": "code",
      "source": [
        "s = input()\n",
        "print('2018/01/' + s[8:])"
      ],
      "metadata": {
        "id": "blv-tt0rlAcB"
      },
      "execution_count": null,
      "outputs": []
    },
    {
      "cell_type": "markdown",
      "source": [
        "internationalization\n",
        "\n",
        "→i18n\n",
        "\n"
      ],
      "metadata": {
        "id": "qGb6I_VFfpvl"
      }
    },
    {
      "cell_type": "markdown",
      "source": [
        "smiles\n",
        "\n",
        "→s4s"
      ],
      "metadata": {
        "id": "qEHF5Wf4fu8u"
      }
    },
    {
      "cell_type": "code",
      "source": [
        "s = input()\n",
        "c = len(s) - 2\n",
        "print(s[0] + str(c) + s[-1])"
      ],
      "metadata": {
        "colab": {
          "base_uri": "https://localhost:8080/"
        },
        "id": "N7MRvQQ9fhsl",
        "outputId": "aa716e92-7bf2-4c69-c04a-2fde2c2c74aa"
      },
      "execution_count": null,
      "outputs": [
        {
          "output_type": "stream",
          "name": "stdout",
          "text": [
            "internationalization\n",
            "i18n\n"
          ]
        }
      ]
    },
    {
      "cell_type": "markdown",
      "source": [
        "yx\n",
        "\n",
        "axy\n",
        "\n",
        "→Yes"
      ],
      "metadata": {
        "id": "aCazYgKKq17d"
      }
    },
    {
      "cell_type": "code",
      "source": [
        "# list を使って文字列を辞書順でソートすることができる\n",
        "s = list(input())\n",
        "t = list(input())\n",
        "\n",
        "# sを辞書順最小に　\n",
        "s.sort()\n",
        "s=''.join(s)\n",
        "# tを辞書順最大に\n",
        "t.sort()\n",
        "t.reverse()# ソートした文字列を逆順に並び替え\n",
        "t=''.join(t)# join関数により、リスト→文字列への変換\n",
        "\n",
        "if s < t:\n",
        "    print('Yes')\n",
        "else:\n",
        "    print('No')"
      ],
      "metadata": {
        "id": "XiD-KZdwq9dc"
      },
      "execution_count": null,
      "outputs": []
    }
  ]
}