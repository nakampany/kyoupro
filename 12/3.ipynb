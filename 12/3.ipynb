{
  "nbformat": 4,
  "nbformat_minor": 0,
  "metadata": {
    "colab": {
      "provenance": [],
      "authorship_tag": "ABX9TyOyvf/dPgfqLPQKaFLroarj",
      "include_colab_link": true
    },
    "kernelspec": {
      "name": "python3",
      "display_name": "Python 3"
    },
    "language_info": {
      "name": "python"
    }
  },
  "cells": [
    {
      "cell_type": "markdown",
      "metadata": {
        "id": "view-in-github",
        "colab_type": "text"
      },
      "source": [
        "<a href=\"https://colab.research.google.com/github/nakampany/kyoupro/blob/main/12/3.ipynb\" target=\"_parent\"><img src=\"https://colab.research.google.com/assets/colab-badge.svg\" alt=\"Open In Colab\"/></a>"
      ]
    },
    {
      "cell_type": "markdown",
      "source": [
        "\n",
        "# A1+A2+…+Ak=Sk\n",
        "\n",
        "# 数列\n"
      ],
      "metadata": {
        "id": "KZ7hv1kMOKz0"
      }
    },
    {
      "cell_type": "code",
      "execution_count": null,
      "metadata": {
        "id": "Rqu5bKgDOJNp"
      },
      "outputs": [],
      "source": [
        "N = int(input())\n",
        "A = list(map(int, input().split()))\n",
        "\n",
        "L = []\n",
        "\n",
        "for i in range(1,N+1):\n",
        "    L.append(sum(filter(lambda x: x, A[:i])))\n",
        "\n",
        "print(*L)"
      ]
    }
  ]
}