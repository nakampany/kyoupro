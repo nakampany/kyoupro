{
  "nbformat": 4,
  "nbformat_minor": 0,
  "metadata": {
    "colab": {
      "provenance": [],
      "include_colab_link": true
    },
    "kernelspec": {
      "name": "python3",
      "display_name": "Python 3"
    },
    "language_info": {
      "name": "python"
    }
  },
  "cells": [
    {
      "cell_type": "markdown",
      "metadata": {
        "id": "view-in-github",
        "colab_type": "text"
      },
      "source": [
        "<a href=\"https://colab.research.google.com/github/nakampany/kyoupro/blob/main/join.ipynb\" target=\"_parent\"><img src=\"https://colab.research.google.com/assets/colab-badge.svg\" alt=\"Open In Colab\"/></a>"
      ]
    },
    {
      "cell_type": "markdown",
      "source": [
        "# 文字列のリスト（配列）を連結・結合: join()\n",
        "\n",
        "# '間に挿入する文字列'.join([連結したい文字列のリスト])\n",
        "\n",
        "# l = ['aaa', 'bbb', 'ccc']"
      ],
      "metadata": {
        "id": "nSclSRwvOgRC"
      }
    },
    {
      "cell_type": "code",
      "execution_count": null,
      "metadata": {
        "id": "ReNyd_-NOc2C"
      },
      "outputs": [],
      "source": [
        "\n",
        "s = ''.join(l)\n",
        "print(s)\n",
        "# aaabbbccc\n",
        "\n",
        "s = ','.join(l)\n",
        "print(s)\n",
        "# aaa,bbb,ccc\n",
        "\n",
        "s = '-'.join(l)\n",
        "print(s)\n",
        "# aaa-bbb-ccc\n",
        "\n",
        "s = '\\n'.join(l)\n",
        "print(s)\n",
        "# aaa\n",
        "# bbb\n",
        "# ccc"
      ]
    },
    {
      "cell_type": "markdown",
      "source": [
        "# print() 関数内でカンマを使っても、スペースができない方法\n",
        "\n",
        "# これはテストです"
      ],
      "metadata": {
        "id": "PFhaloAcO6Jo"
      }
    },
    {
      "cell_type": "code",
      "source": [
        "print('これは' , 'テスト' , 'です')\n",
        "# これは テスト です"
      ],
      "metadata": {
        "id": "9fTQBOWuPcHB"
      },
      "execution_count": null,
      "outputs": []
    },
    {
      "cell_type": "code",
      "source": [
        "print('これは', 'テスト', 'です', sep='') \n",
        "# これはテストです"
      ],
      "metadata": {
        "id": "kgb_pV54O7pV"
      },
      "execution_count": null,
      "outputs": []
    },
    {
      "cell_type": "markdown",
      "source": [
        "# L = [1, 3, 6, 10]\n",
        "\n",
        "# 1 3 5 10"
      ],
      "metadata": {
        "id": "CZairNpRNuTZ"
      }
    },
    {
      "cell_type": "code",
      "source": [
        "L = [1, 3, 6, 10]\n",
        "print(*L)"
      ],
      "metadata": {
        "colab": {
          "base_uri": "https://localhost:8080/"
        },
        "id": "l3efMPWYNt5c",
        "outputId": "5145ca02-0e64-40d2-d61f-017698752042"
      },
      "execution_count": null,
      "outputs": [
        {
          "output_type": "stream",
          "name": "stdout",
          "text": [
            "1 3 6 10\n"
          ]
        }
      ]
    },
    {
      "cell_type": "markdown",
      "source": [
        "# '<=' not supported between instances of 'str' and 'int'\n",
        "\n",
        "**エラーの原因となった互換性のない型 (str と int)の値の間で比較演算子を使用しました。**"
      ],
      "metadata": {
        "id": "3iqa2GTwhs1x"
      }
    },
    {
      "cell_type": "code",
      "source": [
        "N, M = map(int, input().split())\n",
        "S = []\n",
        "for _ in range(N-1):\n",
        "    S.append(int(input()))\n",
        "\n",
        "count = 0\n",
        "\n",
        "for i in range(N-1):\n",
        "    if S[i] <= M:\n",
        "        count+=S[i]\n",
        "    else:\n",
        "        pass\n",
        "    \n",
        "print(count)\n",
        "        "
      ],
      "metadata": {
        "colab": {
          "base_uri": "https://localhost:8080/",
          "height": 339
        },
        "id": "SHAah4vlg__V",
        "outputId": "2fc37893-f365-4dbf-aa16-61b1755fa3e5"
      },
      "execution_count": null,
      "outputs": [
        {
          "name": "stdout",
          "output_type": "stream",
          "text": [
            "5 10\n",
            "5\n",
            "6\n",
            "25\n",
            "4\n"
          ]
        },
        {
          "output_type": "error",
          "ename": "TypeError",
          "evalue": "ignored",
          "traceback": [
            "\u001b[0;31m---------------------------------------------------------------------------\u001b[0m",
            "\u001b[0;31mTypeError\u001b[0m                                 Traceback (most recent call last)",
            "\u001b[0;32m<ipython-input-1-81064ee341ac>\u001b[0m in \u001b[0;36m<module>\u001b[0;34m\u001b[0m\n\u001b[1;32m      7\u001b[0m \u001b[0;34m\u001b[0m\u001b[0m\n\u001b[1;32m      8\u001b[0m \u001b[0;32mfor\u001b[0m \u001b[0mi\u001b[0m \u001b[0;32min\u001b[0m \u001b[0mrange\u001b[0m\u001b[0;34m(\u001b[0m\u001b[0mN\u001b[0m\u001b[0;34m-\u001b[0m\u001b[0;36m1\u001b[0m\u001b[0;34m)\u001b[0m\u001b[0;34m:\u001b[0m\u001b[0;34m\u001b[0m\u001b[0;34m\u001b[0m\u001b[0m\n\u001b[0;32m----> 9\u001b[0;31m     \u001b[0;32mif\u001b[0m \u001b[0mS\u001b[0m\u001b[0;34m[\u001b[0m\u001b[0mi\u001b[0m\u001b[0;34m]\u001b[0m \u001b[0;34m<=\u001b[0m \u001b[0mM\u001b[0m\u001b[0;34m:\u001b[0m\u001b[0;34m\u001b[0m\u001b[0;34m\u001b[0m\u001b[0m\n\u001b[0m\u001b[1;32m     10\u001b[0m         \u001b[0mcount\u001b[0m\u001b[0;34m+=\u001b[0m\u001b[0mS\u001b[0m\u001b[0;34m[\u001b[0m\u001b[0mi\u001b[0m\u001b[0;34m]\u001b[0m\u001b[0;34m\u001b[0m\u001b[0;34m\u001b[0m\u001b[0m\n\u001b[1;32m     11\u001b[0m     \u001b[0;32melse\u001b[0m\u001b[0;34m:\u001b[0m\u001b[0;34m\u001b[0m\u001b[0;34m\u001b[0m\u001b[0m\n",
            "\u001b[0;31mTypeError\u001b[0m: '<=' not supported between instances of 'str' and 'int'"
          ]
        }
      ]
    }
  ]
}