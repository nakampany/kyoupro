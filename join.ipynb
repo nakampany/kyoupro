{
  "nbformat": 4,
  "nbformat_minor": 0,
  "metadata": {
    "colab": {
      "provenance": [],
      "include_colab_link": true
    },
    "kernelspec": {
      "name": "python3",
      "display_name": "Python 3"
    },
    "language_info": {
      "name": "python"
    }
  },
  "cells": [
    {
      "cell_type": "markdown",
      "metadata": {
        "id": "view-in-github",
        "colab_type": "text"
      },
      "source": [
        "<a href=\"https://colab.research.google.com/github/nakampany/kyoupro/blob/main/join.ipynb\" target=\"_parent\"><img src=\"https://colab.research.google.com/assets/colab-badge.svg\" alt=\"Open In Colab\"/></a>"
      ]
    },
    {
      "cell_type": "markdown",
      "source": [
        "# 文字列のリスト（配列）を連結・結合: join()\n",
        "\n",
        "# '間に挿入する文字列'.join([連結したい文字列のリスト])\n",
        "\n",
        "# l = ['aaa', 'bbb', 'ccc']"
      ],
      "metadata": {
        "id": "nSclSRwvOgRC"
      }
    },
    {
      "cell_type": "code",
      "execution_count": 3,
      "metadata": {
        "id": "ReNyd_-NOc2C",
        "colab": {
          "base_uri": "https://localhost:8080/"
        },
        "outputId": "d8ce9dea-4f3a-4341-c08a-daebcb5b2ef0"
      },
      "outputs": [
        {
          "output_type": "stream",
          "name": "stdout",
          "text": [
            "aaabbbccc\n",
            "aaa,bbb,ccc\n",
            "aaa-bbb-ccc\n",
            "aaa\n",
            "bbb\n",
            "ccc\n"
          ]
        }
      ],
      "source": [
        "l = ['aaa', 'bbb', 'ccc']\n",
        "s = ''.join(l)\n",
        "print(s)\n",
        "# aaabbbccc\n",
        "\n",
        "s = ','.join(l)\n",
        "print(s)\n",
        "# aaa,bbb,ccc\n",
        "\n",
        "s = '-'.join(l)\n",
        "print(s)\n",
        "# aaa-bbb-ccc\n",
        "\n",
        "s = '\\n'.join(l)\n",
        "print(s)\n",
        "# aaa\n",
        "# bbb\n",
        "# ccc"
      ]
    },
    {
      "cell_type": "markdown",
      "source": [
        "# listをstrに変換\n",
        "# [1,2,3,4,....9998,9999]   →  '1,2,3,4,....9998,9999'"
      ],
      "metadata": {
        "id": "_0fLv7LRnE8l"
      }
    },
    {
      "cell_type": "code",
      "source": [
        "L = []\n",
        "\n",
        "for i in range(1000):\n",
        "  L.append(i)\n",
        "\n",
        "s = ','.join(map(str, L))\n",
        "s.count('7')"
      ],
      "metadata": {
        "colab": {
          "base_uri": "https://localhost:8080/"
        },
        "id": "rhlSPX6WnIZj",
        "outputId": "920a959e-7cf5-4ae7-87f5-74f40410256e"
      },
      "execution_count": 1,
      "outputs": [
        {
          "output_type": "execute_result",
          "data": {
            "text/plain": [
              "300"
            ]
          },
          "metadata": {},
          "execution_count": 1
        }
      ]
    }
  ]
}