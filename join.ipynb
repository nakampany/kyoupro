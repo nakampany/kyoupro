{
  "nbformat": 4,
  "nbformat_minor": 0,
  "metadata": {
    "colab": {
      "provenance": [],
      "include_colab_link": true
    },
    "kernelspec": {
      "name": "python3",
      "display_name": "Python 3"
    },
    "language_info": {
      "name": "python"
    }
  },
  "cells": [
    {
      "cell_type": "markdown",
      "metadata": {
        "id": "view-in-github",
        "colab_type": "text"
      },
      "source": [
        "<a href=\"https://colab.research.google.com/github/nakampany/kyoupro/blob/main/join.ipynb\" target=\"_parent\"><img src=\"https://colab.research.google.com/assets/colab-badge.svg\" alt=\"Open In Colab\"/></a>"
      ]
    },
    {
      "cell_type": "markdown",
      "source": [
        "# 文字列のリスト（配列）を連結・結合: join()\n",
        "\n",
        "# '間に挿入する文字列'.join([連結したい文字列のリスト])\n",
        "\n",
        "# l = ['aaa', 'bbb', 'ccc']"
      ],
      "metadata": {
        "id": "nSclSRwvOgRC"
      }
    },
    {
      "cell_type": "code",
      "execution_count": null,
      "metadata": {
        "id": "ReNyd_-NOc2C"
      },
      "outputs": [],
      "source": [
        "\n",
        "s = ''.join(l)\n",
        "print(s)\n",
        "# aaabbbccc\n",
        "\n",
        "s = ','.join(l)\n",
        "print(s)\n",
        "# aaa,bbb,ccc\n",
        "\n",
        "s = '-'.join(l)\n",
        "print(s)\n",
        "# aaa-bbb-ccc\n",
        "\n",
        "s = '\\n'.join(l)\n",
        "print(s)\n",
        "# aaa\n",
        "# bbb\n",
        "# ccc"
      ]
    }
  ]
}