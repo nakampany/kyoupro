{
  "nbformat": 4,
  "nbformat_minor": 0,
  "metadata": {
    "colab": {
      "provenance": [],
      "authorship_tag": "ABX9TyMi5FbrKpo4brX+4uRm07CE",
      "include_colab_link": true
    },
    "kernelspec": {
      "name": "python3",
      "display_name": "Python 3"
    },
    "language_info": {
      "name": "python"
    }
  },
  "cells": [
    {
      "cell_type": "markdown",
      "metadata": {
        "id": "view-in-github",
        "colab_type": "text"
      },
      "source": [
        "<a href=\"https://colab.research.google.com/github/nakampany/kyoupro/blob/main/12_10.ipynb\" target=\"_parent\"><img src=\"https://colab.research.google.com/assets/colab-badge.svg\" alt=\"Open In Colab\"/></a>"
      ]
    },
    {
      "cell_type": "markdown",
      "source": [
        "# A問題\n",
        "# countdown\n"
      ],
      "metadata": {
        "id": "vmYQStKIOeaP"
      }
    },
    {
      "cell_type": "code",
      "execution_count": null,
      "metadata": {
        "colab": {
          "base_uri": "https://localhost:8080/"
        },
        "id": "9gS0ln5L98be",
        "outputId": "8bda3d06-8b50-41b6-b7ac-0f5e35f5a333"
      },
      "outputs": [
        {
          "output_type": "stream",
          "name": "stdout",
          "text": [
            "3\n",
            "2\n",
            "1\n",
            "0\n"
          ]
        }
      ],
      "source": [
        "N = int(input())\n",
        "\n",
        "count = N\n",
        "for i in range(N+1):\n",
        "  print(count)\n",
        "  count -= 1"
      ]
    },
    {
      "cell_type": "markdown",
      "source": [
        "# 文字列の中の文字が数を表す文字かどうかを判定する\n",
        "\n",
        "(isdecimal, isdigit, isnumeric)\n",
        "https://www.javadrive.jp/python/string/index14.html"
      ],
      "metadata": {
        "id": "Hq_JnEi5QZ6r"
      }
    },
    {
      "cell_type": "markdown",
      "source": [
        "# すべての文字が10進数の文字かどうかを判定する(isdecimal)"
      ],
      "metadata": {
        "id": "85WXO1uHSXb7"
      }
    },
    {
      "cell_type": "code",
      "source": [
        "print(\"75120\".isdecimal())"
      ],
      "metadata": {
        "colab": {
          "base_uri": "https://localhost:8080/"
        },
        "id": "V3xBgkOQUydv",
        "outputId": "b66ad089-6c23-4b6b-d6fd-3116dfd1a811"
      },
      "execution_count": 2,
      "outputs": [
        {
          "output_type": "stream",
          "name": "stdout",
          "text": [
            "True\n"
          ]
        }
      ]
    },
    {
      "cell_type": "code",
      "source": [
        "print(\"75F2\".isdecimal())"
      ],
      "metadata": {
        "colab": {
          "base_uri": "https://localhost:8080/"
        },
        "id": "VfBSrmJaUzDs",
        "outputId": "fa97ff0f-2da5-482a-9098-8cec19ef0670"
      },
      "execution_count": 3,
      "outputs": [
        {
          "output_type": "stream",
          "name": "stdout",
          "text": [
            "False\n"
          ]
        }
      ]
    },
    {
      "cell_type": "markdown",
      "source": [
        "print(\"⑤⑥⑦\".isdecimal())\n",
        ">> False\n",
        "\n",
        "print(\"⑤⑥⑦\".isdigit())\n",
        ">> True"
      ],
      "metadata": {
        "id": "9IB-rUxmU-vn"
      }
    },
    {
      "cell_type": "markdown",
      "source": [
        "# すべての文字が数字の文字かどうかを判定する(isdigit)"
      ],
      "metadata": {
        "id": "16FEM_kgSzHa"
      }
    },
    {
      "cell_type": "code",
      "source": [
        "print(\"85120\".isdigit())"
      ],
      "metadata": {
        "colab": {
          "base_uri": "https://localhost:8080/"
        },
        "id": "fDTmivMaUscz",
        "outputId": "628c2a54-6fe2-4ff0-b102-efc32aa68343"
      },
      "execution_count": 1,
      "outputs": [
        {
          "output_type": "stream",
          "name": "stdout",
          "text": [
            "True\n"
          ]
        }
      ]
    },
    {
      "cell_type": "markdown",
      "source": [
        "# すべての文字が数の文字かどうかを判定する(isnumeric)"
      ],
      "metadata": {
        "id": "zteMTAk5S1vx"
      }
    },
    {
      "cell_type": "markdown",
      "source": [
        "print(\"３７８５\".isnumeric())\n",
        ">> True\n",
        "\n",
        "print(\"七五三\".isnumeric())\n",
        ">> True\n",
        "\n",
        "print(\"拾伍\".isnumeric())\n",
        ">> True"
      ],
      "metadata": {
        "id": "VEJCjDHzVPr-"
      }
    },
    {
      "cell_type": "code",
      "source": [
        "print(\"9852\".isnumeric())"
      ],
      "metadata": {
        "colab": {
          "base_uri": "https://localhost:8080/"
        },
        "id": "lredrggeVHlU",
        "outputId": "28b4c0d9-f8fa-4c15-a6f5-02e8cf19a9cf"
      },
      "execution_count": 4,
      "outputs": [
        {
          "output_type": "stream",
          "name": "stdout",
          "text": [
            "True\n"
          ]
        }
      ]
    },
    {
      "cell_type": "markdown",
      "source": [
        "# B問題"
      ],
      "metadata": {
        "id": "J__HAfPDOjcd"
      }
    },
    {
      "cell_type": "code",
      "source": [
        "s = input()\n",
        " \n",
        "if len(s) != 8 or s[0].isdigit() or s[7].isdigit():\n",
        "  print(\"No\")\n",
        "elif not s[1:7].isdecimal() or s[1] == '0':\n",
        "  print(\"No\")\n",
        "else:\n",
        "  print(\"Yes\")"
      ],
      "metadata": {
        "id": "8Mpue5gfOdar"
      },
      "execution_count": null,
      "outputs": []
    },
    {
      "cell_type": "markdown",
      "source": [
        "# 先頭に限らずマッチするかチェック、抽出（re.search）"
      ],
      "metadata": {
        "id": "PUyVFSqtUebl"
      }
    },
    {
      "cell_type": "code",
      "source": [
        "import re\n",
        "\n",
        "N = input()\n",
        "\n",
        "def password_check(N):\n",
        "    if len(N) < 8:\n",
        "        return False\n",
        "    if not re.search(r'[A-Z]', N):\n",
        "        return False\n",
        "    if not re.search(r'[a-z]', N):\n",
        "        return False\n",
        "    if not re.search(r'[0-9]', N):\n",
        "        return False\n",
        "    return True\n",
        "\n",
        "while True:\n",
        "    password = input('パスワードを入力してください:')\n",
        "    if password_check(password):\n",
        "        break\n",
        "    print('強力なパスワードを設定してください')\n"
      ],
      "metadata": {
        "id": "7oVT8MvQ_cte"
      },
      "execution_count": null,
      "outputs": []
    },
    {
      "cell_type": "markdown",
      "source": [
        "# C問題\n",
        "# Circular Playlist"
      ],
      "metadata": {
        "id": "r34mKPjSbhpU"
      }
    },
    {
      "cell_type": "markdown",
      "source": [
        "# % → 余り\n",
        "# ％＝"
      ],
      "metadata": {
        "id": "ElsbtBrncXEV"
      }
    },
    {
      "cell_type": "code",
      "source": [
        "n,t = map(int,input().split())\n",
        "a = list(map(int,input().split()))\n",
        "t = t%sum(a)\n",
        "a_time = 0\n",
        " \n",
        "num = 0\n",
        "while a_time <= t:\n",
        "  num += 1\n",
        "  if num > n:\n",
        "    num %= n\n",
        "  \n",
        "  a_time += a[num-1]\n",
        "  \n",
        "ans = a[num-1] - (a_time - t)\n",
        " \n",
        "print(num,ans)"
      ],
      "metadata": {
        "id": "BRESzV-oblJk"
      },
      "execution_count": null,
      "outputs": []
    }
  ]
}
