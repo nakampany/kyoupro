{
  "cells": [
    {
      "cell_type": "markdown",
      "metadata": {
        "id": "view-in-github",
        "colab_type": "text"
      },
      "source": [
        "<a href=\"https://colab.research.google.com/github/nakampany/kyoupro/blob/main/AIZU.ipynb\" target=\"_parent\"><img src=\"https://colab.research.google.com/assets/colab-badge.svg\" alt=\"Open In Colab\"/></a>"
      ]
    },
    {
      "cell_type": "code",
      "execution_count": null,
      "metadata": {
        "colab": {
          "base_uri": "https://localhost:8080/"
        },
        "id": "dOWR5-RvOeqp",
        "outputId": "9120fe79-53b2-4d02-b8af-a855e7eb7ef5"
      },
      "outputs": [
        {
          "name": "stdout",
          "output_type": "stream",
          "text": [
            "0\n"
          ]
        }
      ],
      "source": [
        "i = 1\n",
        "while True:\n",
        "    x = int(input())\n",
        "    if x == 0 :\n",
        "        break\n",
        "    print(\"Case \",i ,\": \",x,sep='')\n",
        "    i += 1"
      ]
    },
    {
      "cell_type": "code",
      "execution_count": null,
      "metadata": {
        "colab": {
          "background_save": true,
          "base_uri": "https://localhost:8080/"
        },
        "id": "iiZy-EuIOfmg",
        "outputId": "60f44bcc-2f82-4540-cfa6-2da57bd60c4f"
      },
      "outputs": [
        {
          "name": "stdout",
          "output_type": "stream",
          "text": [
            "2 3\n",
            "3 4\n",
            "0 9\n"
          ]
        }
      ],
      "source": [
        "while True:\n",
        "    S = list(map(int, input().split()))\n",
        "    if S[0]==0 and S[1] == 0:\n",
        "        break\n",
        "    A = sorted(S)\n",
        "    print(A[0],A[1])\n",
        "    "
      ]
    },
    {
      "cell_type": "code",
      "execution_count": null,
      "metadata": {
        "id": "9o1pl62FVZkN",
        "colab": {
          "base_uri": "https://localhost:8080/"
        },
        "outputId": "879d25d7-4ae9-43c0-a840-085a8703da35"
      },
      "outputs": [
        {
          "output_type": "stream",
          "name": "stdout",
          "text": [
            "1 2 3 \n",
            "1\n"
          ]
        }
      ],
      "source": [
        "count = 0\n",
        "\n",
        "a,b,c=map(int,input().split())\n",
        "\n",
        "for i in range(a,b+1):\n",
        "    if c%i == 0:\n",
        "        count += 1\n",
        "        \n",
        "print(count)"
      ]
    },
    {
      "cell_type": "code",
      "source": [
        "a,b=map(int,input().split())\n",
        "\n",
        "c = a//b\n",
        "d = a%b\n",
        "e = a/b\n",
        "print(\"{0} {1} {2:.5f}\".format(c, d, e))"
      ],
      "metadata": {
        "colab": {
          "base_uri": "https://localhost:8080/"
        },
        "id": "tXcFtR-AEFjl",
        "outputId": "2c39439b-d94e-4c52-8b9f-c6d2f570e6d3"
      },
      "execution_count": null,
      "outputs": [
        {
          "output_type": "stream",
          "name": "stdout",
          "text": [
            "3 2\n",
            "1.5 1 1.00000\n"
          ]
        }
      ]
    },
    {
      "cell_type": "code",
      "source": [
        "import math \n",
        "\n",
        "r = float(input())\n",
        "\n",
        "S = 2*r*math.pi\n",
        "\n",
        "L = r*r*math.pi\n",
        "\n",
        "print(\"{0:.6f} {1:.6f}\".format(L,S))"
      ],
      "metadata": {
        "colab": {
          "base_uri": "https://localhost:8080/"
        },
        "id": "g5jUcPcPIXn7",
        "outputId": "ffddb9dc-2434-4ef0-9abb-770c16b1e437"
      },
      "execution_count": null,
      "outputs": [
        {
          "output_type": "stream",
          "name": "stdout",
          "text": [
            "1\n",
            "3.141593,6.283185\n"
          ]
        }
      ]
    },
    {
      "cell_type": "code",
      "source": [
        "while True:\n",
        "    \n",
        "    a, op, b = input().split()   # 3変数ともに文字列として読み込む\n",
        "    a = int(a)                   # a を整数に変換\n",
        "    b = int(b)\n",
        "    \n",
        "    \n",
        "    if op == \"?\":\n",
        "        break\n",
        "    elif op == \"+\":\n",
        "        c = a+b\n",
        "    elif op==\"-\":\n",
        "        c = a-b\n",
        "    elif op==\"/\":\n",
        "        c = a//b\n",
        "    else:\n",
        "        c= a*b\n",
        "    \n",
        "    print(c)"
      ],
      "metadata": {
        "colab": {
          "base_uri": "https://localhost:8080/"
        },
        "id": "dSHBnTRmLCf7",
        "outputId": "5f70f307-2517-43e5-aea6-9ffe6e54efd9"
      },
      "execution_count": null,
      "outputs": [
        {
          "name": "stdout",
          "output_type": "stream",
          "text": [
            "1 * 2\n",
            "2\n",
            "2 ? 7\n"
          ]
        }
      ]
    },
    {
      "cell_type": "code",
      "source": [
        "\n",
        "n = int(input())\n",
        "\n",
        "L = list(map(int, input().split()))\n",
        "\n",
        "a = min(L)   # 2\n",
        "b = max(L)   # 50\n",
        "c = sum(L)   # 256\n",
        "\n",
        "print(a, b, c)"
      ],
      "metadata": {
        "colab": {
          "base_uri": "https://localhost:8080/"
        },
        "id": "ZEINl34mOzz4",
        "outputId": "305dc47c-8be1-42a9-c747-edfdcc32d520"
      },
      "execution_count": null,
      "outputs": [
        {
          "output_type": "stream",
          "name": "stdout",
          "text": [
            "2\n",
            "2 3\n",
            "2 3 5\n"
          ]
        }
      ]
    },
    {
      "cell_type": "code",
      "source": [
        "while True:\n",
        "    H,W=map(int,input().split())\n",
        "\n",
        "    if H==0 and W==0:\n",
        "        break\n",
        "\n",
        "    for i in range(0,H):\n",
        "        for j in range(0,W):\n",
        "            print(\"#\",end = \"\")\n",
        "        print()\n",
        "    print()"
      ],
      "metadata": {
        "id": "c3dFJYvvQrBb",
        "colab": {
          "base_uri": "https://localhost:8080/"
        },
        "outputId": "47a70e57-f4b6-4e6f-c817-38296e5fc642"
      },
      "execution_count": null,
      "outputs": [
        {
          "name": "stdout",
          "output_type": "stream",
          "text": [
            "3 4\n",
            "####\n",
            "\n",
            "####\n",
            "\n",
            "####\n",
            "\n",
            "0 0\n"
          ]
        }
      ]
    },
    {
      "cell_type": "markdown",
      "source": [
        "##print(出力するデータ, sep = \"\", end = \"\\n\", file=ファイルオブジェクト, flush=False)\n",
        "\n",
        "sep\t任意\t複数のデータを出力する場合の区切り文字を指定\n",
        "※何も指定しなければ、スペースになります。\n",
        "end\t任意\tprintでデータを出力した後(末尾)に出力するものを指定\n",
        "※何も指定しなければ、改行コードが指定されます。\n",
        "file\t任意\t出力対象のファイルオブジェクトを指定。\n",
        "詳細は後の章で解説いたします。\n",
        "flush\t任意\tバッファの処理を止め強制的に出力するか否かをTrue/Falseで指定。\n",
        "※何も指定しなければ、Falseになります。\n"
      ],
      "metadata": {
        "id": "CYX42OoBeeMp"
      }
    },
    {
      "cell_type": "markdown",
      "source": [],
      "metadata": {
        "id": "VgwUEplli71b"
      }
    },
    {
      "cell_type": "code",
      "source": [
        "while True:\n",
        "    H,W=map(int,input().split())\n",
        "    \n",
        "    if H==0 and W==0:\n",
        "        break\n",
        "\n",
        "    for i in range(0,H):\n",
        "        for j in range(0,W):\n",
        "            if i==0 or i==H-1 or j==0 or j==W-1:\n",
        "                print('#',end='')\n",
        "            else:\n",
        "                print('.',end='')\n",
        "        print()\n",
        "    print()"
      ],
      "metadata": {
        "id": "xGWsiqv7bJGL"
      },
      "execution_count": null,
      "outputs": []
    },
    {
      "cell_type": "code",
      "source": [
        "while True:\n",
        "    H,W=map(int,input().split())\n",
        "    \n",
        "    if H==0 and W==0:\n",
        "        break\n",
        "    for i in range(0,H):\n",
        "        for j in range(0,W):\n",
        "            if i%2==0 and j%2==0:\n",
        "                print('#',end='')\n",
        "            elif i%2==0 and j%2==1:\n",
        "                print('.',end='')\n",
        "            elif i%2==1 and j%2==0:\n",
        "                print('.',end='')\n",
        "            else:\n",
        "                print('#',end='')\n",
        "        print()\n",
        "    print()"
      ],
      "metadata": {
        "colab": {
          "base_uri": "https://localhost:8080/"
        },
        "id": "QTpYgskYFILM",
        "outputId": "3f76c4ba-4fba-4da4-de55-2a836a43d1d2"
      },
      "execution_count": null,
      "outputs": [
        {
          "name": "stdout",
          "output_type": "stream",
          "text": [
            "2 2\n",
            "#.\n",
            ".#\n",
            "\n",
            "4 5\n",
            "#.#.#\n",
            ".#.#.\n",
            "#.#.#\n",
            ".#.#.\n",
            "\n",
            "0 0\n"
          ]
        }
      ]
    },
    {
      "cell_type": "markdown",
      "source": [
        "\" \".join((\"やせいの\",\"ポッポ\",\"が\",\"あらわれた！\"))\n",
        "\n",
        "'やせいの ポッポ が あらわれた！' 太字"
      ],
      "metadata": {
        "id": "-I3wm1es8OlR"
      }
    },
    {
      "cell_type": "markdown",
      "source": [
        "map()はmap型のオブジェクト（イテレータ）を返し、そのままprint()しても中身の値は出力されない。\n",
        "\n",
        "print(list(map(abs, l)))\n",
        "[2, 1, 0]"
      ],
      "metadata": {
        "id": "1BzzQ0VF8nem"
      }
    },
    {
      "cell_type": "code",
      "source": [
        "\n",
        "N = input()\n",
        "\n",
        "L = list(map(int,input().split()))\n",
        "\n",
        "L.reverse()\n",
        "\n",
        "\n",
        "print(\" \".join(map(str,L))) "
      ],
      "metadata": {
        "id": "FvNP8AFEFIBq",
        "colab": {
          "base_uri": "https://localhost:8080/"
        },
        "outputId": "2603a6ee-54b1-454a-a873-dd52168342fe"
      },
      "execution_count": null,
      "outputs": [
        {
          "output_type": "stream",
          "name": "stdout",
          "text": [
            "2\n",
            "1 2\n",
            "[2, 1]\n",
            "2 1\n"
          ]
        }
      ]
    },
    {
      "cell_type": "markdown",
      "source": [
        "# **for 変数名 in リストオブジェクト:**\n",
        "enumerate 関数を使うことで、リストの要素とともにインデックスを同時に取得することができます。"
      ],
      "metadata": {
        "id": "g6tz0NPf78gH"
      }
    },
    {
      "cell_type": "code",
      "source": [
        "N = input()\n",
        "\n",
        "L = list(map(int,input().split()))\n",
        "\n",
        "L.reverse()\n",
        "\n",
        "for i, elem in enumerate(L):\n",
        "    if i > 0:\n",
        "        print(\" \", end = \"\")   # i が 0 より大きいとき、つまり最初の要素ではないとき空白を出力\n",
        "    print(elem, end = \"\")\n",
        "print()   # 改行を出力"
      ],
      "metadata": {
        "colab": {
          "base_uri": "https://localhost:8080/"
        },
        "id": "-VlUADCH5i_i",
        "outputId": "b4591261-14d5-4651-d41c-0eed1d58a8c1"
      },
      "execution_count": null,
      "outputs": [
        {
          "output_type": "stream",
          "name": "stdout",
          "text": [
            "2\n",
            "1 2\n",
            "1 2\n"
          ]
        }
      ]
    },
    {
      "cell_type": "code",
      "source": [
        "lst = [27, 35, 42, 18]\n",
        "\n",
        "lst.sort()\n",
        "print(lst)    # [18, 27, 35, 42]\n",
        "\n",
        "lst.reverse()\n",
        "print(lst)    # [42, 35, 27, 18]"
      ],
      "metadata": {
        "colab": {
          "base_uri": "https://localhost:8080/"
        },
        "id": "dmZty8tM7PNT",
        "outputId": "702a4514-6d9a-4848-da8e-b67e7548d845"
      },
      "execution_count": null,
      "outputs": [
        {
          "output_type": "stream",
          "name": "stdout",
          "text": [
            "[18, 27, 35, 42]\n",
            "[42, 35, 27, 18]\n"
          ]
        }
      ]
    },
    {
      "cell_type": "code",
      "source": [
        "BIG_NUM = 2000000000\n",
        "\n",
        "N = int(input())\n",
        "A = list(map(int,input().split()))\n",
        "B = [0]*len(A)\n",
        "\n",
        "for i in range(len(A)):\n",
        "    B[len(A)-1-i] = A[i]\n",
        "\n",
        "print(' '.join(map(str,B)))"
      ],
      "metadata": {
        "colab": {
          "base_uri": "https://localhost:8080/"
        },
        "id": "nDFGPo0E7xBL",
        "outputId": "70216ec9-1a6f-4663-c676-84cafc353cac"
      },
      "execution_count": null,
      "outputs": [
        {
          "output_type": "stream",
          "name": "stdout",
          "text": [
            "3\n",
            "1 2 3\n",
            "3 2 1\n"
          ]
        }
      ]
    },
    {
      "cell_type": "code",
      "source": [
        "n = int(input())\n",
        "a = []\n",
        "\n",
        "\n",
        "for i in range(n):\n",
        "\tx, y = input().split()\n",
        "\ty = int(y)\n",
        "\tif x == \"S\":\n",
        "\t\ta.append(y + 0)\n",
        "\tif x == \"H\":\n",
        "\t\ta.append(y + 13)\n",
        "\tif x == \"C\":\n",
        "\t\ta.append(y + 26)\n",
        "\tif x == \"D\":\n",
        "\t\ta.append(y + 39)\n",
        "  \n",
        "\n",
        "for i in range(1, 53):\n",
        "\tif not (i in a):\n",
        "\t\tif i <= 13:\n",
        "\t\t\tprint(\"S {}\".format(i - 0))\n",
        "\t\telif i <= 26:\n",
        "\t\t\tprint(\"H {}\".format(i - 13))\n",
        "\t\telif i <= 39:\n",
        "\t\t\tprint(\"C {}\".format(i - 26))\n",
        "\t\telse:\n",
        "\t\t\tprint(\"D {}\".format(i - 39))\n",
        "\n",
        "\n"
      ],
      "metadata": {
        "colab": {
          "base_uri": "https://localhost:8080/",
          "height": 254
        },
        "id": "1Tz5wMBgFsuA",
        "outputId": "6a83a8cb-adcf-4df3-ddb6-6bc7a756d6cc"
      },
      "execution_count": null,
      "outputs": [
        {
          "name": "stdout",
          "output_type": "stream",
          "text": [
            "DF\n"
          ]
        },
        {
          "output_type": "error",
          "ename": "ValueError",
          "evalue": "ignored",
          "traceback": [
            "\u001b[0;31m---------------------------------------------------------------------------\u001b[0m",
            "\u001b[0;31mValueError\u001b[0m                                Traceback (most recent call last)",
            "\u001b[0;32m<ipython-input-1-2c9cc1ca38b2>\u001b[0m in \u001b[0;36m<module>\u001b[0;34m\u001b[0m\n\u001b[0;32m----> 1\u001b[0;31m \u001b[0mn\u001b[0m \u001b[0;34m=\u001b[0m \u001b[0mint\u001b[0m\u001b[0;34m(\u001b[0m\u001b[0minput\u001b[0m\u001b[0;34m(\u001b[0m\u001b[0;34m)\u001b[0m\u001b[0;34m)\u001b[0m\u001b[0;34m\u001b[0m\u001b[0;34m\u001b[0m\u001b[0m\n\u001b[0m\u001b[1;32m      2\u001b[0m \u001b[0ma\u001b[0m \u001b[0;34m=\u001b[0m \u001b[0;34m[\u001b[0m\u001b[0;34m]\u001b[0m\u001b[0;34m\u001b[0m\u001b[0;34m\u001b[0m\u001b[0m\n\u001b[1;32m      3\u001b[0m \u001b[0;34m\u001b[0m\u001b[0m\n\u001b[1;32m      4\u001b[0m \u001b[0;34m\u001b[0m\u001b[0m\n\u001b[1;32m      5\u001b[0m \u001b[0;32mfor\u001b[0m \u001b[0mi\u001b[0m \u001b[0;32min\u001b[0m \u001b[0mrange\u001b[0m\u001b[0;34m(\u001b[0m\u001b[0mn\u001b[0m\u001b[0;34m)\u001b[0m\u001b[0;34m:\u001b[0m\u001b[0;34m\u001b[0m\u001b[0;34m\u001b[0m\u001b[0m\n",
            "\u001b[0;31mValueError\u001b[0m: invalid literal for int() with base 10: 'DF'"
          ]
        }
      ]
    },
    {
      "cell_type": "code",
      "source": [
        "# 0の配列リストを作る\n",
        "table = [[[0]*10 for i in range (0,3)] for k in range (0,4)]\n",
        "\n",
        "\n",
        "N = int(input())\n",
        "\n",
        "for i in range(N):\n",
        "    b, f, r, v  = map(int,input().split())\n",
        "    table[b-1][f-1][r-1] += v\n",
        "\n",
        "\n",
        "x = 0\n",
        "\n",
        "for a in range(4):\n",
        "    # 初めの1回目は＃をださない\n",
        "    if x != 0:\n",
        "        print(\"#\"*20)\n",
        "    x += 1\n",
        "\n",
        "    for b in range(3):\n",
        "        for c in range(10):\n",
        "            print(\" %d\"%(table[a][b][c]),end = \"\")\n",
        "        print()\n",
        "\n",
        "\n",
        "\n",
        "\n",
        "\n",
        "\n",
        "\n",
        "\n"
      ],
      "metadata": {
        "colab": {
          "base_uri": "https://localhost:8080/"
        },
        "id": "ESnCazjnIJTB",
        "outputId": "8a2f75b2-2e0f-4091-8f51-89085e8ec9c0"
      },
      "execution_count": null,
      "outputs": [
        {
          "output_type": "stream",
          "name": "stdout",
          "text": [
            "2\n",
            "3 2 2 7\n",
            "4 3 8 1\n",
            " 0 0 0 0 0 0 0 0 0 0\n",
            " 0 0 0 0 0 0 0 0 0 0\n",
            " 0 0 0 0 0 0 0 0 0 0\n",
            "####################\n",
            " 0 0 0 0 0 0 0 0 0 0\n",
            " 0 0 0 0 0 0 0 0 0 0\n",
            " 0 0 0 0 0 0 0 0 0 0\n",
            "####################\n",
            " 0 0 0 0 0 0 0 0 0 0\n",
            " 0 7 0 0 0 0 0 0 0 0\n",
            " 0 0 0 0 0 0 0 0 0 0\n",
            "####################\n",
            " 0 0 0 0 0 0 0 0 0 0\n",
            " 0 0 0 0 0 0 0 0 0 0\n",
            " 0 0 0 0 0 0 0 1 0 0\n"
          ]
        }
      ]
    },
    {
      "cell_type": "markdown",
      "source": [
        "l = [0] * 10\n",
        "print(l)\n",
        "# [0, 0, 0, 0, 0, 0, 0, 0, 0, 0]\n",
        "\n",
        "print([0, 1, 2] * 3)\n",
        "# [0, 1, 2, 0, 1, 2, 0, 1, 2]\n",
        "https://note.nkmk.me/python-list-initialize/"
      ],
      "metadata": {
        "id": "Ha3I1vWWWXY1"
      }
    },
    {
      "cell_type": "code",
      "source": [
        "# ベクトル計算\n",
        "\n",
        "\n",
        "n, m = map(int, input().split())\n",
        "\n"
      ],
      "metadata": {
        "id": "FjHnA0HlHWnH"
      },
      "execution_count": null,
      "outputs": []
    },
    {
      "cell_type": "code",
      "source": [
        "while True:\n",
        "\n",
        "  m, f, r =map(int, input().split())\n",
        "\n",
        "  if m==-1and f==-1and r ==-1:\n",
        "    break\n",
        "\n",
        "  if m+f >= 80:\n",
        "    print(\"A\")\n",
        "  elif 80 > m+f >= 65:\n",
        "    print(\"B\")\n",
        "  elif 65 > m+f >= 50:\n",
        "    print(\"C\")\n",
        "  elif 50 > m+f >= 30 and m!=-1 and f!=-1:\n",
        "    if r >= 50:\n",
        "      print(\"C\")\n",
        "    else:\n",
        "      print(\"D\")\n",
        "  elif 30>m+f or m==-1 or f==-1:\n",
        "    print(\"F\")\n",
        "\n",
        "\n",
        "\n",
        "\n",
        "\n",
        "\n"
      ],
      "metadata": {
        "colab": {
          "base_uri": "https://localhost:8080/"
        },
        "id": "Mv7wyAUoMM-z",
        "outputId": "d4952ce0-e460-4ac6-b4c7-b6de314c6075"
      },
      "execution_count": null,
      "outputs": [
        {
          "name": "stdout",
          "output_type": "stream",
          "text": [
            "-1 50 -1\n",
            "F\n",
            "-1 -1 -1\n"
          ]
        }
      ]
    },
    {
      "cell_type": "code",
      "source": [
        "def solve():\n",
        "    n, x = map(int, input().split())\n",
        "    if n == 0 and x == 0:\n",
        "        return False\n",
        "    count = 0\n",
        "    for i in range(1, n + 1):\n",
        "        for j in range(1, i):\n",
        "            for k in range(1, j):\n",
        "                if i + j + k == x:\n",
        "                    count += 1\n",
        "    print(count)\n",
        "    return True\n",
        "\n",
        "while solve():\n",
        "    pass"
      ],
      "metadata": {
        "id": "11VCHe3FMM0U",
        "colab": {
          "base_uri": "https://localhost:8080/",
          "height": 375
        },
        "outputId": "360159d0-91ea-4ac0-aa33-3eee795532e0"
      },
      "execution_count": null,
      "outputs": [
        {
          "output_type": "error",
          "ename": "KeyboardInterrupt",
          "evalue": "ignored",
          "traceback": [
            "\u001b[0;31m---------------------------------------------------------------------------\u001b[0m",
            "\u001b[0;31mKeyboardInterrupt\u001b[0m                         Traceback (most recent call last)",
            "\u001b[0;32m<ipython-input-1-84721ebc272d>\u001b[0m in \u001b[0;36m<module>\u001b[0;34m\u001b[0m\n\u001b[1;32m     12\u001b[0m     \u001b[0;32mreturn\u001b[0m \u001b[0;32mTrue\u001b[0m\u001b[0;34m\u001b[0m\u001b[0;34m\u001b[0m\u001b[0m\n\u001b[1;32m     13\u001b[0m \u001b[0;34m\u001b[0m\u001b[0m\n\u001b[0;32m---> 14\u001b[0;31m \u001b[0;32mwhile\u001b[0m \u001b[0msolve\u001b[0m\u001b[0;34m(\u001b[0m\u001b[0;34m)\u001b[0m\u001b[0;34m:\u001b[0m\u001b[0;34m\u001b[0m\u001b[0;34m\u001b[0m\u001b[0m\n\u001b[0m\u001b[1;32m     15\u001b[0m     \u001b[0;32mpass\u001b[0m\u001b[0;34m\u001b[0m\u001b[0;34m\u001b[0m\u001b[0m\n",
            "\u001b[0;32m<ipython-input-1-84721ebc272d>\u001b[0m in \u001b[0;36msolve\u001b[0;34m()\u001b[0m\n\u001b[1;32m      1\u001b[0m \u001b[0;32mdef\u001b[0m \u001b[0msolve\u001b[0m\u001b[0;34m(\u001b[0m\u001b[0;34m)\u001b[0m\u001b[0;34m:\u001b[0m\u001b[0;34m\u001b[0m\u001b[0;34m\u001b[0m\u001b[0m\n\u001b[0;32m----> 2\u001b[0;31m     \u001b[0mn\u001b[0m\u001b[0;34m,\u001b[0m \u001b[0mx\u001b[0m \u001b[0;34m=\u001b[0m \u001b[0mmap\u001b[0m\u001b[0;34m(\u001b[0m\u001b[0mint\u001b[0m\u001b[0;34m,\u001b[0m \u001b[0minput\u001b[0m\u001b[0;34m(\u001b[0m\u001b[0;34m)\u001b[0m\u001b[0;34m.\u001b[0m\u001b[0msplit\u001b[0m\u001b[0;34m(\u001b[0m\u001b[0;34m)\u001b[0m\u001b[0;34m)\u001b[0m\u001b[0;34m\u001b[0m\u001b[0;34m\u001b[0m\u001b[0m\n\u001b[0m\u001b[1;32m      3\u001b[0m     \u001b[0;32mif\u001b[0m \u001b[0mn\u001b[0m \u001b[0;34m==\u001b[0m \u001b[0;36m0\u001b[0m \u001b[0;32mand\u001b[0m \u001b[0mx\u001b[0m \u001b[0;34m==\u001b[0m \u001b[0;36m0\u001b[0m\u001b[0;34m:\u001b[0m\u001b[0;34m\u001b[0m\u001b[0;34m\u001b[0m\u001b[0m\n\u001b[1;32m      4\u001b[0m         \u001b[0;32mreturn\u001b[0m \u001b[0;32mFalse\u001b[0m\u001b[0;34m\u001b[0m\u001b[0;34m\u001b[0m\u001b[0m\n\u001b[1;32m      5\u001b[0m     \u001b[0mcount\u001b[0m \u001b[0;34m=\u001b[0m \u001b[0;36m0\u001b[0m\u001b[0;34m\u001b[0m\u001b[0;34m\u001b[0m\u001b[0m\n",
            "\u001b[0;32m/usr/local/lib/python3.7/dist-packages/ipykernel/kernelbase.py\u001b[0m in \u001b[0;36mraw_input\u001b[0;34m(self, prompt)\u001b[0m\n\u001b[1;32m    861\u001b[0m             \u001b[0mself\u001b[0m\u001b[0;34m.\u001b[0m\u001b[0m_parent_ident\u001b[0m\u001b[0;34m,\u001b[0m\u001b[0;34m\u001b[0m\u001b[0;34m\u001b[0m\u001b[0m\n\u001b[1;32m    862\u001b[0m             \u001b[0mself\u001b[0m\u001b[0;34m.\u001b[0m\u001b[0m_parent_header\u001b[0m\u001b[0;34m,\u001b[0m\u001b[0;34m\u001b[0m\u001b[0;34m\u001b[0m\u001b[0m\n\u001b[0;32m--> 863\u001b[0;31m             \u001b[0mpassword\u001b[0m\u001b[0;34m=\u001b[0m\u001b[0;32mFalse\u001b[0m\u001b[0;34m,\u001b[0m\u001b[0;34m\u001b[0m\u001b[0;34m\u001b[0m\u001b[0m\n\u001b[0m\u001b[1;32m    864\u001b[0m         )\n\u001b[1;32m    865\u001b[0m \u001b[0;34m\u001b[0m\u001b[0m\n",
            "\u001b[0;32m/usr/local/lib/python3.7/dist-packages/ipykernel/kernelbase.py\u001b[0m in \u001b[0;36m_input_request\u001b[0;34m(self, prompt, ident, parent, password)\u001b[0m\n\u001b[1;32m    902\u001b[0m             \u001b[0;32mexcept\u001b[0m \u001b[0mKeyboardInterrupt\u001b[0m\u001b[0;34m:\u001b[0m\u001b[0;34m\u001b[0m\u001b[0;34m\u001b[0m\u001b[0m\n\u001b[1;32m    903\u001b[0m                 \u001b[0;31m# re-raise KeyboardInterrupt, to truncate traceback\u001b[0m\u001b[0;34m\u001b[0m\u001b[0;34m\u001b[0m\u001b[0;34m\u001b[0m\u001b[0m\n\u001b[0;32m--> 904\u001b[0;31m                 \u001b[0;32mraise\u001b[0m \u001b[0mKeyboardInterrupt\u001b[0m\u001b[0;34m(\u001b[0m\u001b[0;34m\"Interrupted by user\"\u001b[0m\u001b[0;34m)\u001b[0m \u001b[0;32mfrom\u001b[0m \u001b[0;32mNone\u001b[0m\u001b[0;34m\u001b[0m\u001b[0;34m\u001b[0m\u001b[0m\n\u001b[0m\u001b[1;32m    905\u001b[0m             \u001b[0;32mexcept\u001b[0m \u001b[0mException\u001b[0m \u001b[0;32mas\u001b[0m \u001b[0me\u001b[0m\u001b[0;34m:\u001b[0m\u001b[0;34m\u001b[0m\u001b[0;34m\u001b[0m\u001b[0m\n\u001b[1;32m    906\u001b[0m                 \u001b[0mself\u001b[0m\u001b[0;34m.\u001b[0m\u001b[0mlog\u001b[0m\u001b[0;34m.\u001b[0m\u001b[0mwarning\u001b[0m\u001b[0;34m(\u001b[0m\u001b[0;34m\"Invalid Message:\"\u001b[0m\u001b[0;34m,\u001b[0m \u001b[0mexc_info\u001b[0m\u001b[0;34m=\u001b[0m\u001b[0;32mTrue\u001b[0m\u001b[0;34m)\u001b[0m\u001b[0;34m\u001b[0m\u001b[0;34m\u001b[0m\u001b[0m\n",
            "\u001b[0;31mKeyboardInterrupt\u001b[0m: Interrupted by user"
          ]
        }
      ]
    },
    {
      "cell_type": "code",
      "source": [
        "while True:\n",
        "  n, x = map(int, input().split())\n",
        "  if x==0 and n ==0:\n",
        "    break\n",
        "  \n",
        "  ans=0\n",
        "  for i in range(1, n+1):\n",
        "    for j in range(1, i):\n",
        "      for k in range(1, j):\n",
        "        if i + j + k == x:\n",
        "          ans += 1\n",
        "  print(ans)"
      ],
      "metadata": {
        "id": "eXs02fbik9qJ"
      },
      "execution_count": null,
      "outputs": []
    },
    {
      "cell_type": "code",
      "source": [
        "H,W = map(int,input().split())\n",
        "\n",
        "table = [[0]*(W+1) for i in range(H+1)]\n",
        "\n",
        "for row in range(H):\n",
        "    work = list(map(int,input().split())) #★★直にtableに代入すると、列数が変わってしまう!!!★★★\n",
        "    for col in range(W):\n",
        "        table[row][col] = work[col]\n",
        "\n",
        "\n",
        "for row in range(H):\n",
        "    for col in range(0,W):\n",
        "        table[row][W] += table[row][col]\n",
        "\n",
        "\n",
        "for col in range(0,W+1):\n",
        "    for row in range(0,H):\n",
        "        table[H][col] += table[row][col]\n",
        "\n",
        "\n",
        "for row in range(0,H+1):\n",
        "    print(\"%d\"%(table[row][0]),end=\"\")\n",
        "    for col in range(1,W+1):\n",
        "        print(\" %d\"%(table[row][col]),end = \"\")\n",
        "    print()\n",
        "\n",
        "\n"
      ],
      "metadata": {
        "id": "qW1Y_-EVmfL8"
      },
      "execution_count": null,
      "outputs": []
    },
    {
      "cell_type": "code",
      "source": [
        "r,c = map(int, input().split())\n",
        "\n",
        "table = [[0]*(r+1) for i in range(c+1)]\n",
        "\n",
        "# 行列入力\n",
        "for row in range(c):\n",
        "    work = list(map(int,input().split()))\n",
        "    for col in range(r):\n",
        "      table[row][col] = work[col]\n",
        "\n",
        "# 外側の合計\n",
        "for row in range(c):\n",
        "    for col in range(0,r):\n",
        "      table[roｗ][ｒ] += table[row][col]\n",
        "\n",
        "for col in range(0,r+1):\n",
        "    for row in range(0,c):\n",
        "      table[c][col] += table[row][col]\n",
        "\n",
        "# 行列表示\n",
        "for row in range(0,c+1):\n",
        "    print(\"%d\"%(table[row][0]),end=\"\")\n",
        "    for col in range(1,c+1):\n",
        "      print(\"%d\"%(table[row][col]),end=\"\")\n",
        "L = list(map(int,input().split()))    print()"
      ],
      "metadata": {
        "id": "Fz3vrtlsrYSE",
        "colab": {
          "base_uri": "https://localhost:8080/",
          "height": 400
        },
        "outputId": "3b363a93-6d88-4001-9913-6c6332edbd43"
      },
      "execution_count": null,
      "outputs": [
        {
          "output_type": "error",
          "ename": "KeyboardInterrupt",
          "evalue": "ignored",
          "traceback": [
            "\u001b[0;31m---------------------------------------------------------------------------\u001b[0m",
            "\u001b[0;31mKeyboardInterrupt\u001b[0m                         Traceback (most recent call last)",
            "\u001b[0;32m<ipython-input-5-f963dfa4d1dc>\u001b[0m in \u001b[0;36m<module>\u001b[0;34m\u001b[0m\n\u001b[0;32m----> 1\u001b[0;31m \u001b[0mr\u001b[0m\u001b[0;34m,\u001b[0m \u001b[0mc\u001b[0m \u001b[0;34m=\u001b[0m \u001b[0mmap\u001b[0m\u001b[0;34m(\u001b[0m\u001b[0mint\u001b[0m\u001b[0;34m,\u001b[0m \u001b[0minput\u001b[0m\u001b[0;34m(\u001b[0m\u001b[0;34m)\u001b[0m\u001b[0;34m.\u001b[0m\u001b[0msplit\u001b[0m\u001b[0;34m(\u001b[0m\u001b[0;34m)\u001b[0m\u001b[0;34m)\u001b[0m\u001b[0;34m\u001b[0m\u001b[0;34m\u001b[0m\u001b[0m\n\u001b[0m\u001b[1;32m      2\u001b[0m \u001b[0;34m\u001b[0m\u001b[0m\n\u001b[1;32m      3\u001b[0m \u001b[0mtable\u001b[0m \u001b[0;34m=\u001b[0m \u001b[0;34m[\u001b[0m\u001b[0;34m[\u001b[0m\u001b[0;36m0\u001b[0m\u001b[0;34m]\u001b[0m\u001b[0;34m*\u001b[0m\u001b[0;34m(\u001b[0m\u001b[0mr\u001b[0m\u001b[0;34m+\u001b[0m\u001b[0;36m1\u001b[0m\u001b[0;34m)\u001b[0m \u001b[0;32mfor\u001b[0m \u001b[0mi\u001b[0m \u001b[0;32min\u001b[0m \u001b[0mrange\u001b[0m\u001b[0;34m(\u001b[0m\u001b[0mc\u001b[0m\u001b[0;34m+\u001b[0m\u001b[0;36m1\u001b[0m\u001b[0;34m)\u001b[0m\u001b[0;34m]\u001b[0m\u001b[0;34m\u001b[0m\u001b[0;34m\u001b[0m\u001b[0m\n\u001b[1;32m      4\u001b[0m \u001b[0;34m\u001b[0m\u001b[0m\n\u001b[1;32m      5\u001b[0m \u001b[0;31m# 行列入力\u001b[0m\u001b[0;34m\u001b[0m\u001b[0;34m\u001b[0m\u001b[0;34m\u001b[0m\u001b[0m\n",
            "\u001b[0;32m/usr/local/lib/python3.7/dist-packages/ipykernel/kernelbase.py\u001b[0m in \u001b[0;36mraw_input\u001b[0;34m(self, prompt)\u001b[0m\n\u001b[1;32m    861\u001b[0m             \u001b[0mself\u001b[0m\u001b[0;34m.\u001b[0m\u001b[0m_parent_ident\u001b[0m\u001b[0;34m,\u001b[0m\u001b[0;34m\u001b[0m\u001b[0;34m\u001b[0m\u001b[0m\n\u001b[1;32m    862\u001b[0m             \u001b[0mself\u001b[0m\u001b[0;34m.\u001b[0m\u001b[0m_parent_header\u001b[0m\u001b[0;34m,\u001b[0m\u001b[0;34m\u001b[0m\u001b[0;34m\u001b[0m\u001b[0m\n\u001b[0;32m--> 863\u001b[0;31m             \u001b[0mpassword\u001b[0m\u001b[0;34m=\u001b[0m\u001b[0;32mFalse\u001b[0m\u001b[0;34m,\u001b[0m\u001b[0;34m\u001b[0m\u001b[0;34m\u001b[0m\u001b[0m\n\u001b[0m\u001b[1;32m    864\u001b[0m         )\n\u001b[1;32m    865\u001b[0m \u001b[0;34m\u001b[0m\u001b[0m\n",
            "\u001b[0;32m/usr/local/lib/python3.7/dist-packages/ipykernel/kernelbase.py\u001b[0m in \u001b[0;36m_input_request\u001b[0;34m(self, prompt, ident, parent, password)\u001b[0m\n\u001b[1;32m    902\u001b[0m             \u001b[0;32mexcept\u001b[0m \u001b[0mKeyboardInterrupt\u001b[0m\u001b[0;34m:\u001b[0m\u001b[0;34m\u001b[0m\u001b[0;34m\u001b[0m\u001b[0m\n\u001b[1;32m    903\u001b[0m                 \u001b[0;31m# re-raise KeyboardInterrupt, to truncate traceback\u001b[0m\u001b[0;34m\u001b[0m\u001b[0;34m\u001b[0m\u001b[0;34m\u001b[0m\u001b[0m\n\u001b[0;32m--> 904\u001b[0;31m                 \u001b[0;32mraise\u001b[0m \u001b[0mKeyboardInterrupt\u001b[0m\u001b[0;34m(\u001b[0m\u001b[0;34m\"Interrupted by user\"\u001b[0m\u001b[0;34m)\u001b[0m \u001b[0;32mfrom\u001b[0m \u001b[0;32mNone\u001b[0m\u001b[0;34m\u001b[0m\u001b[0;34m\u001b[0m\u001b[0m\n\u001b[0m\u001b[1;32m    905\u001b[0m             \u001b[0;32mexcept\u001b[0m \u001b[0mException\u001b[0m \u001b[0;32mas\u001b[0m \u001b[0me\u001b[0m\u001b[0;34m:\u001b[0m\u001b[0;34m\u001b[0m\u001b[0;34m\u001b[0m\u001b[0m\n\u001b[1;32m    906\u001b[0m                 \u001b[0mself\u001b[0m\u001b[0;34m.\u001b[0m\u001b[0mlog\u001b[0m\u001b[0;34m.\u001b[0m\u001b[0mwarning\u001b[0m\u001b[0;34m(\u001b[0m\u001b[0;34m\"Invalid Message:\"\u001b[0m\u001b[0;34m,\u001b[0m \u001b[0mexc_info\u001b[0m\u001b[0;34m=\u001b[0m\u001b[0;32mTrue\u001b[0m\u001b[0;34m)\u001b[0m\u001b[0;34m\u001b[0m\u001b[0;34m\u001b[0m\u001b[0m\n",
            "\u001b[0;31mKeyboardInterrupt\u001b[0m: Interrupted by user"
          ]
        }
      ]
    },
    {
      "cell_type": "code",
      "source": [
        "n, m, l= map(int, input().split())\n",
        "\n",
        "A = [[0]*m for i in range(n)]\n",
        "\n",
        "B = [[0]*l for i in range(n)]\n",
        "\n",
        "for row1 in range(n):\n",
        "    X = list(map(int,input().split()))\n",
        "    for col1 in range(m):\n",
        "      A[row1][col1] = X[col1]\n",
        "\n",
        "for row2 in range(n):\n",
        "    X = list(map(int,input().split()))\n",
        "    for col2 in range(m):\n",
        "      A[row2][col2] = X[col2]\n",
        "\n",
        "\n",
        "\n",
        "\n",
        "\n",
        "\n"
      ],
      "metadata": {
        "id": "yWqY2tNyYkIx"
      },
      "execution_count": null,
      "outputs": []
    },
    {
      "cell_type": "code",
      "source": [
        "n,m,l=map(int,input().split())\n",
        "a=[list(map(int,input().split())) for i in range(n)]\n",
        "b=[list(map(int,input().split())) for i in range(m)]\n",
        "c=[[0]*l for i in range(n)]\n",
        "for i in range(n):\n",
        "    for j in range(l):\n",
        "        for k in range(m):\n",
        "            c[i][j]+=a[i][k]*b[k][j];\n",
        "\n",
        "\n",
        "# 表示\n",
        "for i in range(n):\n",
        "    for j in range(l):\n",
        "        if j>0:\n",
        "          print(\" \",end='')\n",
        "        print(c[i][j],end='')\n",
        "    print()"
      ],
      "metadata": {
        "id": "pxH3M2m4YkFv"
      },
      "execution_count": null,
      "outputs": []
    },
    {
      "cell_type": "code",
      "source": [
        "n,m,l=map(int,input().split())\n",
        "a=[list(map(int,input().split())) for i in range(n)]\n",
        "b=[list(map(int,input().split())) for i in range(m)]\n",
        "c=[[0]*l for i in range(n)]\n",
        "for i in range(n):\n",
        "  for j in range(l):\n",
        "    for k in range(m):\n",
        "      c[i][j] += a[i][k]*b[k][j]\n",
        "\n",
        "\n",
        "for i in range(n):\n",
        "    for j in range(l):\n",
        "      # 0なし！\n",
        "        if j>0:\n",
        "          print(\" \",end='')\n",
        "        print(c[i][j],end='')\n",
        "    print()"
      ],
      "metadata": {
        "id": "mISoIMI3YkDH"
      },
      "execution_count": null,
      "outputs": []
    },
    {
      "cell_type": "code",
      "source": [
        "str = input().swapcase()\n",
        "\n",
        "print(str)"
      ],
      "metadata": {
        "colab": {
          "base_uri": "https://localhost:8080/",
          "height": 365
        },
        "id": "VBkrXUahYj6H",
        "outputId": "e5fd81e9-a9ee-4f49-c13d-f4d9b0bdde49"
      },
      "execution_count": null,
      "outputs": [
        {
          "output_type": "error",
          "ename": "KeyboardInterrupt",
          "evalue": "ignored",
          "traceback": [
            "\u001b[0;31m---------------------------------------------------------------------------\u001b[0m",
            "\u001b[0;31mKeyboardInterrupt\u001b[0m                         Traceback (most recent call last)",
            "\u001b[0;32m<ipython-input-3-0a36ddb66ef9>\u001b[0m in \u001b[0;36m<module>\u001b[0;34m\u001b[0m\n\u001b[0;32m----> 1\u001b[0;31m \u001b[0mstr\u001b[0m \u001b[0;34m=\u001b[0m \u001b[0mstr\u001b[0m\u001b[0;34m(\u001b[0m\u001b[0minput\u001b[0m\u001b[0;34m(\u001b[0m\u001b[0;34m)\u001b[0m\u001b[0;34m)\u001b[0m\u001b[0;34m.\u001b[0m\u001b[0mlower\u001b[0m\u001b[0;34m(\u001b[0m\u001b[0;34m)\u001b[0m\u001b[0;34m\u001b[0m\u001b[0;34m\u001b[0m\u001b[0m\n\u001b[0m\u001b[1;32m      2\u001b[0m \u001b[0;34m\u001b[0m\u001b[0m\n\u001b[1;32m      3\u001b[0m \u001b[0mprint\u001b[0m\u001b[0;34m(\u001b[0m\u001b[0mstr\u001b[0m\u001b[0;34m)\u001b[0m\u001b[0;34m\u001b[0m\u001b[0;34m\u001b[0m\u001b[0m\n",
            "\u001b[0;32m/usr/local/lib/python3.7/dist-packages/ipykernel/kernelbase.py\u001b[0m in \u001b[0;36mraw_input\u001b[0;34m(self, prompt)\u001b[0m\n\u001b[1;32m    861\u001b[0m             \u001b[0mself\u001b[0m\u001b[0;34m.\u001b[0m\u001b[0m_parent_ident\u001b[0m\u001b[0;34m,\u001b[0m\u001b[0;34m\u001b[0m\u001b[0;34m\u001b[0m\u001b[0m\n\u001b[1;32m    862\u001b[0m             \u001b[0mself\u001b[0m\u001b[0;34m.\u001b[0m\u001b[0m_parent_header\u001b[0m\u001b[0;34m,\u001b[0m\u001b[0;34m\u001b[0m\u001b[0;34m\u001b[0m\u001b[0m\n\u001b[0;32m--> 863\u001b[0;31m             \u001b[0mpassword\u001b[0m\u001b[0;34m=\u001b[0m\u001b[0;32mFalse\u001b[0m\u001b[0;34m,\u001b[0m\u001b[0;34m\u001b[0m\u001b[0;34m\u001b[0m\u001b[0m\n\u001b[0m\u001b[1;32m    864\u001b[0m         )\n\u001b[1;32m    865\u001b[0m \u001b[0;34m\u001b[0m\u001b[0m\n",
            "\u001b[0;32m/usr/local/lib/python3.7/dist-packages/ipykernel/kernelbase.py\u001b[0m in \u001b[0;36m_input_request\u001b[0;34m(self, prompt, ident, parent, password)\u001b[0m\n\u001b[1;32m    902\u001b[0m             \u001b[0;32mexcept\u001b[0m \u001b[0mKeyboardInterrupt\u001b[0m\u001b[0;34m:\u001b[0m\u001b[0;34m\u001b[0m\u001b[0;34m\u001b[0m\u001b[0m\n\u001b[1;32m    903\u001b[0m                 \u001b[0;31m# re-raise KeyboardInterrupt, to truncate traceback\u001b[0m\u001b[0;34m\u001b[0m\u001b[0;34m\u001b[0m\u001b[0;34m\u001b[0m\u001b[0m\n\u001b[0;32m--> 904\u001b[0;31m                 \u001b[0;32mraise\u001b[0m \u001b[0mKeyboardInterrupt\u001b[0m\u001b[0;34m(\u001b[0m\u001b[0;34m\"Interrupted by user\"\u001b[0m\u001b[0;34m)\u001b[0m \u001b[0;32mfrom\u001b[0m \u001b[0;32mNone\u001b[0m\u001b[0;34m\u001b[0m\u001b[0;34m\u001b[0m\u001b[0m\n\u001b[0m\u001b[1;32m    905\u001b[0m             \u001b[0;32mexcept\u001b[0m \u001b[0mException\u001b[0m \u001b[0;32mas\u001b[0m \u001b[0me\u001b[0m\u001b[0;34m:\u001b[0m\u001b[0;34m\u001b[0m\u001b[0;34m\u001b[0m\u001b[0m\n\u001b[1;32m    906\u001b[0m                 \u001b[0mself\u001b[0m\u001b[0;34m.\u001b[0m\u001b[0mlog\u001b[0m\u001b[0;34m.\u001b[0m\u001b[0mwarning\u001b[0m\u001b[0;34m(\u001b[0m\u001b[0;34m\"Invalid Message:\"\u001b[0m\u001b[0;34m,\u001b[0m \u001b[0mexc_info\u001b[0m\u001b[0;34m=\u001b[0m\u001b[0;32mTrue\u001b[0m\u001b[0;34m)\u001b[0m\u001b[0;34m\u001b[0m\u001b[0;34m\u001b[0m\u001b[0m\n",
            "\u001b[0;31mKeyboardInterrupt\u001b[0m: Interrupted by user"
          ]
        }
      ]
    },
    {
      "cell_type": "code",
      "source": [
        "\n",
        "while True:\n",
        "    N = input()\n",
        "    if len(N) == 1 and int(N) == 0:\n",
        "        break\n",
        "    sum = 0\n",
        "    for i in range(len(N)):\n",
        "        sum += int(N[i])\n",
        "\n",
        "    print(sum)\n",
        "\n",
        "\n",
        "\n"
      ],
      "metadata": {
        "id": "exOe5Msj8zY_"
      },
      "execution_count": null,
      "outputs": []
    },
    {
      "cell_type": "code",
      "source": [
        "alf=[0]*26\n",
        "while True:\n",
        "    try:\n",
        "        str=input().lower()\n",
        "    except:\n",
        "        break\n",
        "    for c in str:\n",
        "        if 'a'<=c and c<='z':\n",
        "            alf[ord(c)-ord(\"a\")]+=1\n",
        "\n",
        "for i in range(26):\n",
        "    print(chr(ord(\"a\")+i),\":\",alf[i])"
      ],
      "metadata": {
        "id": "7_X_pfit8zUt"
      },
      "execution_count": null,
      "outputs": []
    },
    {
      "cell_type": "code",
      "source": [
        "import sys\n",
        "\n",
        "BIG_NUM = 2000000000\n",
        "\n",
        "T = input()\n",
        "P = input()\n",
        "\n",
        "\n",
        "for head in range(len(T)): #検索の先頭\n",
        "    FLG = True\n",
        "    for k in range(len(P)):\n",
        "        if T[(head+k)%len(T)] != P[k]:\n",
        "            FLG = False\n",
        "            break\n",
        "    if FLG == True:\n",
        "        print('Yes')\n",
        "        sys.exit()\n",
        "\n",
        "print('No')"
      ],
      "metadata": {
        "id": "aWPEuIi48zPU"
      },
      "execution_count": null,
      "outputs": []
    },
    {
      "cell_type": "code",
      "source": [],
      "metadata": {
        "id": "5fenXl858zIi"
      },
      "execution_count": null,
      "outputs": []
    },
    {
      "cell_type": "code",
      "source": [
        "import sys\n",
        "s=[x.lower() for x in sys.stdin.read().split()]\n",
        "s = \"\".join(s)\n",
        "for i in range(26):\n",
        "\tprint(chr(97+i)+ \" : \" + str(s.count(chr(97+i))))"
      ],
      "metadata": {
        "id": "Pf8UGzkeU1uI"
      },
      "execution_count": null,
      "outputs": []
    },
    {
      "cell_type": "code",
      "source": [
        "import sys\n",
        "s=[x.lower() for x in sys.stdin.read().split()]\n",
        "s = \"\".join(s)\n",
        "for i in range(26):\n",
        "\tprint(chr(97+i)+ \" : \" + str(s.count(chr(97+i))))"
      ],
      "metadata": {
        "id": "Uuwo2etrU1pA"
      },
      "execution_count": null,
      "outputs": []
    },
    {
      "cell_type": "code",
      "source": [
        "a = 170\n",
        "N = int(input())\n",
        "if 0 <= N and N <= 100:\n",
        "    print(N+a)\n",
        "else:\n",
        "    pass"
      ],
      "metadata": {
        "id": "I2SNTSB4U1mw",
        "colab": {
          "base_uri": "https://localhost:8080/"
        },
        "outputId": "2114603e-5582-4452-8b42-884b45932bcf"
      },
      "execution_count": null,
      "outputs": [
        {
          "output_type": "stream",
          "name": "stdout",
          "text": [
            "30\n",
            "200\n"
          ]
        }
      ]
    },
    {
      "cell_type": "code",
      "source": [
        "def solution(list):\n",
        "    result = 1\n",
        "    print(list)\n",
        "    for i in list:\n",
        "      if list[i - 1] == result:\n",
        "        result +=1\n",
        "    return result\n",
        "\n",
        "\n",
        "A = [1,2,3,4,5]\n",
        "\n",
        "solution(A)"
      ],
      "metadata": {
        "id": "zGI48ex3U1lB",
        "colab": {
          "base_uri": "https://localhost:8080/"
        },
        "outputId": "59874d52-209f-4146-85ed-0c8aa464925d"
      },
      "execution_count": null,
      "outputs": [
        {
          "output_type": "stream",
          "name": "stdout",
          "text": [
            "[1, 2, 3, 4, 5]\n"
          ]
        },
        {
          "output_type": "execute_result",
          "data": {
            "text/plain": [
              "6"
            ]
          },
          "metadata": {},
          "execution_count": 16
        }
      ]
    },
    {
      "cell_type": "code",
      "source": [
        "def solution(list):\n",
        "    result = 1\n",
        "    print(list)\n",
        "    for i in list:\n",
        "      if list == result in list:\n",
        "        result +=1\n",
        "    return result"
      ],
      "metadata": {
        "id": "BW53aHz26cg_"
      },
      "execution_count": null,
      "outputs": []
    },
    {
      "cell_type": "code",
      "source": [
        "def func(list):\n",
        "    print(list)\n",
        "\n",
        "\n",
        "abc=[\"A\",\"B\",\"C\"]\n",
        "\n",
        "func(abc)"
      ],
      "metadata": {
        "colab": {
          "base_uri": "https://localhost:8080/"
        },
        "id": "i72LXvkM1ou1",
        "outputId": "a5969074-50fe-4545-e99f-d268fe2e5da9"
      },
      "execution_count": null,
      "outputs": [
        {
          "output_type": "stream",
          "name": "stdout",
          "text": [
            "['A', 'B', 'C']\n"
          ]
        }
      ]
    },
    {
      "cell_type": "code",
      "source": [
        "N, K= map(int, input().split())\n",
        "\n",
        "L = list(map(int, input().split()))\n",
        "\n",
        "for i in range(K+1):\n",
        "  L = L.extend([0])\n",
        "\n",
        "print(\" \".join(map(str,L))) \n"
      ],
      "metadata": {
        "id": "69j_gp6tU1hX",
        "colab": {
          "base_uri": "https://localhost:8080/"
        },
        "outputId": "d237bd5d-de8d-487d-af26-1194fc8d7ce1"
      },
      "execution_count": null,
      "outputs": [
        {
          "output_type": "stream",
          "name": "stdout",
          "text": [
            "3 2\n",
            "1 2 3\n",
            "3 0 0\n"
          ]
        }
      ]
    },
    {
      "cell_type": "code",
      "source": [
        "N, K= map(int, input().split())\n",
        "\n",
        "A = list(map(int, input().split()))\n",
        "\n",
        "for i in range(K):\n",
        "    A.append(0)\n",
        " \n",
        "print(*A[K:])\n"
      ],
      "metadata": {
        "id": "ZbDrml8MU1dq",
        "colab": {
          "base_uri": "https://localhost:8080/",
          "height": 185
        },
        "outputId": "0bd56cc6-2f5d-495c-cfbf-4e5ff57cf9ff"
      },
      "execution_count": null,
      "outputs": [
        {
          "name": "stdout",
          "output_type": "stream",
          "text": [
            "1 2 3 4\n"
          ]
        },
        {
          "output_type": "error",
          "ename": "TypeError",
          "evalue": "ignored",
          "traceback": [
            "\u001b[0;31m---------------------------------------------------------------------------\u001b[0m",
            "\u001b[0;31mTypeError\u001b[0m                                 Traceback (most recent call last)",
            "\u001b[0;32m<ipython-input-25-cf30886ec87d>\u001b[0m in \u001b[0;36m<module>\u001b[0;34m\u001b[0m\n\u001b[0;32m----> 1\u001b[0;31m \u001b[0ms\u001b[0m \u001b[0;34m=\u001b[0m \u001b[0mlist\u001b[0m\u001b[0;34m(\u001b[0m\u001b[0mmap\u001b[0m\u001b[0;34m(\u001b[0m\u001b[0mint\u001b[0m\u001b[0;34m,\u001b[0m \u001b[0minput\u001b[0m\u001b[0;34m(\u001b[0m\u001b[0;34m)\u001b[0m\u001b[0;34m.\u001b[0m\u001b[0msplit\u001b[0m\u001b[0;34m(\u001b[0m\u001b[0;34m)\u001b[0m\u001b[0;34m)\u001b[0m\u001b[0;34m)\u001b[0m\u001b[0;34m\u001b[0m\u001b[0;34m\u001b[0m\u001b[0m\n\u001b[0m",
            "\u001b[0;31mTypeError\u001b[0m: 'list' object is not callable"
          ]
        }
      ]
    },
    {
      "cell_type": "code",
      "source": [
        "A = [1,2,3]"
      ],
      "metadata": {
        "id": "qP1e5DU5-TLj"
      },
      "execution_count": null,
      "outputs": []
    },
    {
      "cell_type": "code",
      "source": [
        "print(\" \".join(map(str,A))) "
      ],
      "metadata": {
        "id": "stbSVT04U1ZP",
        "colab": {
          "base_uri": "https://localhost:8080/"
        },
        "outputId": "c29ff781-3a19-44fb-dbca-653ce67f1935"
      },
      "execution_count": null,
      "outputs": [
        {
          "output_type": "stream",
          "name": "stdout",
          "text": [
            "1 2 3\n"
          ]
        }
      ]
    },
    {
      "cell_type": "code",
      "source": [
        "print(*A[K:])"
      ],
      "metadata": {
        "id": "s0yvCT9iU1Mc",
        "colab": {
          "base_uri": "https://localhost:8080/"
        },
        "outputId": "abf55c8d-2845-4dd1-d698-28e45b9035b6"
      },
      "execution_count": null,
      "outputs": [
        {
          "output_type": "stream",
          "name": "stdout",
          "text": [
            "3\n"
          ]
        }
      ]
    },
    {
      "cell_type": "code",
      "source": [
        "print(*A[K-2:])"
      ],
      "metadata": {
        "colab": {
          "base_uri": "https://localhost:8080/"
        },
        "id": "NKK4N7hL-bfp",
        "outputId": "d31609ff-7c64-4baf-bb0a-74a2cdd96d2b"
      },
      "execution_count": null,
      "outputs": [
        {
          "output_type": "stream",
          "name": "stdout",
          "text": [
            "1 2 3\n"
          ]
        }
      ]
    },
    {
      "cell_type": "code",
      "source": [
        "print(*A[1])"
      ],
      "metadata": {
        "colab": {
          "base_uri": "https://localhost:8080/",
          "height": 168
        },
        "id": "f_mTplos-dus",
        "outputId": "2a63b84a-d381-4f25-8faa-ad20af760c4d"
      },
      "execution_count": null,
      "outputs": [
        {
          "output_type": "error",
          "ename": "TypeError",
          "evalue": "ignored",
          "traceback": [
            "\u001b[0;31m---------------------------------------------------------------------------\u001b[0m",
            "\u001b[0;31mTypeError\u001b[0m                                 Traceback (most recent call last)",
            "\u001b[0;32m<ipython-input-12-d87ab558f698>\u001b[0m in \u001b[0;36m<module>\u001b[0;34m\u001b[0m\n\u001b[0;32m----> 1\u001b[0;31m \u001b[0mprint\u001b[0m\u001b[0;34m(\u001b[0m\u001b[0;34m*\u001b[0m\u001b[0mA\u001b[0m\u001b[0;34m[\u001b[0m\u001b[0;36m1\u001b[0m\u001b[0;34m]\u001b[0m\u001b[0;34m)\u001b[0m\u001b[0;34m\u001b[0m\u001b[0;34m\u001b[0m\u001b[0m\n\u001b[0m",
            "\u001b[0;31mTypeError\u001b[0m: print() argument after * must be an iterable, not int"
          ]
        }
      ]
    },
    {
      "cell_type": "markdown",
      "source": [
        "複数じゃないと使えない\n",
        "\n",
        "```\n",
        "print(A[1:])\n",
        "\n",
        "\n",
        "```\n",
        "→[2, 3]\n",
        "\n",
        "\n",
        "\n",
        "```\n",
        "print(*A[1:])\n",
        "\n",
        "```\n",
        "→2, 3\n",
        "\n",
        "\n"
      ],
      "metadata": {
        "id": "G2WFghKb-3A_"
      }
    },
    {
      "cell_type": "code",
      "source": [
        "nums = input().split()\n",
        "h=int(nums[0])\n",
        "m=int(nums[1])\n",
        "while True:\n",
        "  h2 = (h // 10) * 10 + m // 10 \n",
        "  m2 = m % 10 + (h % 10) * 10 \n",
        "  if h2 < 24 and m2 < 60:\n",
        "    print(\"%d %d\" %(h,m))\n",
        "    break\n",
        "  m += 1\n",
        "  if m == 60:\n",
        "    m = 0\n",
        "    h += 1\n",
        "    if h == 24:\n",
        "      h = 0"
      ],
      "metadata": {
        "id": "nrraTdKh-hdO"
      },
      "execution_count": null,
      "outputs": []
    },
    {
      "cell_type": "code",
      "source": [
        "S = [ｓｔｒ(i) for i in list(input())]\n",
        "print(S)\n",
        "\n",
        "\n",
        "\n",
        "count1 = S.count('V')\n",
        "count2 = S.count('W')\n",
        "count = count1 + count2\n",
        "print(count)"
      ],
      "metadata": {
        "colab": {
          "base_uri": "https://localhost:8080/"
        },
        "id": "oviDeQ2a09WG",
        "outputId": "70d06264-12f5-4600-e520-3ddbc66f70d8"
      },
      "execution_count": null,
      "outputs": [
        {
          "output_type": "stream",
          "name": "stdout",
          "text": [
            "wvwvwv\n",
            "['w', 'v', 'w', 'v', 'w', 'v']\n",
            "0\n"
          ]
        }
      ]
    },
    {
      "cell_type": "code",
      "source": [
        "S = [ｓｔｒ(i) for i in list(input())]\n",
        "print(S)\n",
        "\n",
        "S.count('V')\n",
        "\n"
      ],
      "metadata": {
        "colab": {
          "base_uri": "https://localhost:8080/"
        },
        "id": "2JdmrA206EVl",
        "outputId": "b648a781-2ee3-439a-ec6e-97867d33ac24"
      },
      "execution_count": null,
      "outputs": [
        {
          "output_type": "stream",
          "name": "stdout",
          "text": [
            "wvwvw\n",
            "['w', 'v', 'w', 'v', 'w']\n"
          ]
        },
        {
          "output_type": "execute_result",
          "data": {
            "text/plain": [
              "0"
            ]
          },
          "metadata": {},
          "execution_count": 31
        }
      ]
    },
    {
      "cell_type": "code",
      "source": [],
      "metadata": {
        "id": "8WCoPvuu6q1S"
      },
      "execution_count": null,
      "outputs": []
    }
  ],
  "metadata": {
    "colab": {
      "provenance": [],
      "authorship_tag": "ABX9TyPKoozw3ddY7u9z1kiboMYm",
      "include_colab_link": true
    },
    "kernelspec": {
      "display_name": "Python 3",
      "name": "python3"
    },
    "language_info": {
      "name": "python"
    }
  },
  "nbformat": 4,
  "nbformat_minor": 0
}