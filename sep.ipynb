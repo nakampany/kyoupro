{
  "nbformat": 4,
  "nbformat_minor": 0,
  "metadata": {
    "colab": {
      "provenance": [],
      "authorship_tag": "ABX9TyOpSzkNuXfdLmLmKqOcYdom",
      "include_colab_link": true
    },
    "kernelspec": {
      "name": "python3",
      "display_name": "Python 3"
    },
    "language_info": {
      "name": "python"
    }
  },
  "cells": [
    {
      "cell_type": "markdown",
      "metadata": {
        "id": "view-in-github",
        "colab_type": "text"
      },
      "source": [
        "<a href=\"https://colab.research.google.com/github/nakampany/kyoupro/blob/main/sep.ipynb\" target=\"_parent\"><img src=\"https://colab.research.google.com/assets/colab-badge.svg\" alt=\"Open In Colab\"/></a>"
      ]
    },
    {
      "cell_type": "markdown",
      "source": [
        "# print() 関数内でカンマを使っても、スペースができない方法\n",
        "\n",
        "# これはテストです"
      ],
      "metadata": {
        "id": "PFhaloAcO6Jo"
      }
    },
    {
      "cell_type": "code",
      "source": [
        "print('これは' , 'テスト' , 'です')\n",
        "# これは テスト です"
      ],
      "metadata": {
        "id": "9fTQBOWuPcHB"
      },
      "execution_count": null,
      "outputs": []
    },
    {
      "cell_type": "code",
      "source": [
        "print('これは', 'テスト', 'です', sep='') \n",
        "# これはテストです"
      ],
      "metadata": {
        "id": "kgb_pV54O7pV"
      },
      "execution_count": null,
      "outputs": []
    }
  ]
}