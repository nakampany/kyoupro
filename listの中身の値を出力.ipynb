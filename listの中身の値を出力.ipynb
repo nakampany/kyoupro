{
  "nbformat": 4,
  "nbformat_minor": 0,
  "metadata": {
    "colab": {
      "provenance": [],
      "authorship_tag": "ABX9TyOTr7ljpzQ2/r/gBBwYOzJ3",
      "include_colab_link": true
    },
    "kernelspec": {
      "name": "python3",
      "display_name": "Python 3"
    },
    "language_info": {
      "name": "python"
    }
  },
  "cells": [
    {
      "cell_type": "markdown",
      "metadata": {
        "id": "view-in-github",
        "colab_type": "text"
      },
      "source": [
        "<a href=\"https://colab.research.google.com/github/nakampany/kyoupro/blob/main/list%E3%81%AE%E4%B8%AD%E8%BA%AB%E3%81%AE%E5%80%A4%E3%82%92%E5%87%BA%E5%8A%9B.ipynb\" target=\"_parent\"><img src=\"https://colab.research.google.com/assets/colab-badge.svg\" alt=\"Open In Colab\"/></a>"
      ]
    },
    {
      "cell_type": "markdown",
      "source": [
        "# L = [1, 3, 6, 10]\n",
        "\n",
        "# 1 3 5 10"
      ],
      "metadata": {
        "id": "CZairNpRNuTZ"
      }
    },
    {
      "cell_type": "code",
      "source": [
        "L = [1, 3, 6, 10]\n",
        "print(*L)"
      ],
      "metadata": {
        "colab": {
          "base_uri": "https://localhost:8080/"
        },
        "id": "l3efMPWYNt5c",
        "outputId": "5145ca02-0e64-40d2-d61f-017698752042"
      },
      "execution_count": null,
      "outputs": [
        {
          "output_type": "stream",
          "name": "stdout",
          "text": [
            "1 3 6 10\n"
          ]
        }
      ]
    },
    {
      "cell_type": "markdown",
      "source": [],
      "metadata": {
        "id": "FIpaY8QJahIx"
      }
    }
  ]
}