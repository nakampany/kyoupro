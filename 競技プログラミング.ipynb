{
  "nbformat": 4,
  "nbformat_minor": 0,
  "metadata": {
    "colab": {
      "provenance": []
    },
    "kernelspec": {
      "name": "python3",
      "display_name": "Python 3"
    },
    "language_info": {
      "name": "python"
    }
  },
  "cells": [
    {
      "cell_type": "markdown",
      "source": [
        "# type(S) => <class 'str'>"
      ],
      "metadata": {
        "id": "8l_jq514ItH_"
      }
    },
    {
      "cell_type": "code",
      "source": [
        "S = input() # type(S) => <class 'str'>"
      ],
      "metadata": {
        "id": "vcyjpiKYIb2V"
      },
      "execution_count": null,
      "outputs": []
    },
    {
      "cell_type": "markdown",
      "source": [
        "# type(N) => <class 'int'>"
      ],
      "metadata": {
        "id": "6XdSqCwxIqrz"
      }
    },
    {
      "cell_type": "code",
      "source": [
        "N = int(input())  # type(N) => <class 'int'>"
      ],
      "metadata": {
        "id": "HbzUXbH5Ib0k"
      },
      "execution_count": null,
      "outputs": []
    },
    {
      "cell_type": "markdown",
      "source": [
        "# type(x) => <class 'float'>"
      ],
      "metadata": {
        "id": "49IuaZZ6IyJ6"
      }
    },
    {
      "cell_type": "code",
      "source": [
        "x = float(input())  # type(x) => <class 'float'>"
      ],
      "metadata": {
        "id": "HJ1tCZyNIbyP"
      },
      "execution_count": null,
      "outputs": []
    },
    {
      "cell_type": "markdown",
      "source": [
        "# 1行に複数の文字列"
      ],
      "metadata": {
        "id": "yFWTcOPmI-ph"
      }
    },
    {
      "cell_type": "code",
      "source": [
        "# atcoder beginner contest"
      ],
      "metadata": {
        "id": "LpcxrBhoJLGn"
      },
      "execution_count": null,
      "outputs": []
    },
    {
      "cell_type": "code",
      "source": [
        "S = input().split()        # type(S) => <class 'list'>\n",
        "print(S)                   # ['atcoder', 'beginner', 'contest']"
      ],
      "metadata": {
        "id": "_NvVfqMtIbu9"
      },
      "execution_count": null,
      "outputs": []
    },
    {
      "cell_type": "code",
      "source": [
        "A, B, C = input().split()  # type(A) => <class 'str'>\n",
        "print(A)                   # 「atcoder」と表示される\n"
      ],
      "metadata": {
        "id": "lj1AqgOlIbni"
      },
      "execution_count": null,
      "outputs": []
    },
    {
      "cell_type": "markdown",
      "source": [
        "# 1行に決まった数の文字"
      ],
      "metadata": {
        "id": "yTwXRcjzJSgU"
      }
    },
    {
      "cell_type": "code",
      "source": [
        "# oxo"
      ],
      "metadata": {
        "id": "ylhOFuHVJTmQ"
      },
      "execution_count": null,
      "outputs": []
    },
    {
      "cell_type": "code",
      "source": [
        "a, b, c = input()  # 3文字の文字列\n",
        "print(a)           # 「o」と表示される"
      ],
      "metadata": {
        "id": "Qd9geRPaJTsb"
      },
      "execution_count": null,
      "outputs": []
    },
    {
      "cell_type": "code",
      "source": [
        "S = input()\n",
        "print(S[0])        # 「o」と表示される"
      ],
      "metadata": {
        "id": "_yqw1UxLJTqt"
      },
      "execution_count": null,
      "outputs": []
    },
    {
      "cell_type": "markdown",
      "source": [
        "# N\n",
        "# A1 A2 … AN\n",
        "\n",
        "# 4\n",
        "# 5 6 8 10"
      ],
      "metadata": {
        "id": "mj4ijU77JjRg"
      }
    },
    {
      "cell_type": "code",
      "source": [
        "N = int(input())\n",
        "A = list(map(int, input().split()))  # 入力のときに N を使う必要はありません\n",
        "print(A[0])                          # 「5」と表示されます"
      ],
      "metadata": {
        "id": "_emWYJS_JToj"
      },
      "execution_count": null,
      "outputs": []
    },
    {
      "cell_type": "markdown",
      "source": [
        "# リスト内包表記"
      ],
      "metadata": {
        "id": "bV0NVU1mJ08m"
      }
    },
    {
      "cell_type": "code",
      "source": [
        "N = int(input())\n",
        "A = [int(x) for x in input().split()]"
      ],
      "metadata": {
        "id": "CQxZAnq6Ibk6"
      },
      "execution_count": null,
      "outputs": []
    },
    {
      "cell_type": "markdown",
      "source": [
        "# 1行に決まった数の整数"
      ],
      "metadata": {
        "id": "Gs7hiYflJ8VG"
      }
    },
    {
      "cell_type": "code",
      "source": [
        "# 3 4"
      ],
      "metadata": {
        "id": "01-Arfn9IVR7"
      },
      "execution_count": null,
      "outputs": []
    },
    {
      "cell_type": "code",
      "source": [
        "a, b = map(int, input().split())  # list() を使っても構いません"
      ],
      "metadata": {
        "id": "42uxxIvMIVQT"
      },
      "execution_count": null,
      "outputs": []
    },
    {
      "cell_type": "markdown",
      "source": [
        "# 「1行に複数の整数」をソートしておきたい"
      ],
      "metadata": {
        "id": "INzDdLEHKM1C"
      }
    },
    {
      "cell_type": "code",
      "source": [
        "# 4\n",
        "# 20 18 2 18"
      ],
      "metadata": {
        "id": "q41erXRfIVLh"
      },
      "execution_count": null,
      "outputs": []
    },
    {
      "cell_type": "code",
      "source": [
        "N = int(input())\n",
        "A = sorted(map(int, input().split()))  # type(A) => <class 'list'>"
      ],
      "metadata": {
        "id": "axvsPwZIIVG-"
      },
      "execution_count": null,
      "outputs": []
    },
    {
      "cell_type": "code",
      "source": [
        "N = int(input())\n",
        "A = sorted([int(x) for x in input().split()])"
      ],
      "metadata": {
        "id": "5cklS_qjKOnc"
      },
      "execution_count": null,
      "outputs": []
    },
    {
      "cell_type": "markdown",
      "source": [
        "# 複数行の入力\n",
        "\n",
        "# HH WW\n",
        "# S1S1\n",
        "# ⋮\n",
        "# SH\n",
        "\n",
        "1.   リスト項目\n",
        "2.   リスト項目\n",
        "\n"
      ],
      "metadata": {
        "id": "HezOOMWAKUjK"
      }
    },
    {
      "cell_type": "code",
      "source": [
        "H, W = map(int, input().split())\n",
        "S = []\n",
        "for _ in range(H):\n",
        "    S.append(input())  # S += [input()] とも書ける"
      ],
      "metadata": {
        "id": "zIGK6SuFKOlj"
      },
      "execution_count": null,
      "outputs": []
    },
    {
      "cell_type": "code",
      "source": [
        "H, W = map(int, input().split())\n",
        "S = [input() for _ in range(H)]\n",
        "# S = [input() for _ in [0] * H] とも書ける"
      ],
      "metadata": {
        "id": "6opQa7xRKOjr"
      },
      "execution_count": null,
      "outputs": []
    },
    {
      "cell_type": "markdown",
      "source": [
        "# 最初にすべて読み込む必要がある場合 - 事前に各リストを用意しておく\n",
        "\n",
        "# N\n",
        "# t1 x1 y1\n",
        "# t2 x2 y2\n",
        "# ⋮⋮\n",
        "# tN xN yN\n",
        "\n",
        "# 2\n",
        "# 3 1 2\n",
        "# 6 1 1"
      ],
      "metadata": {
        "id": "bbLU5Au0KxyY"
      }
    },
    {
      "cell_type": "code",
      "source": [
        "N = int(input())\n",
        "t = [0] * N\n",
        "x = [0] * N\n",
        "y = [0] * N\n",
        "for i in range(N):\n",
        "    t[i], x[i], y[i] = map(int, input().split())"
      ],
      "metadata": {
        "id": "C8Xx5HZLKOhr"
      },
      "execution_count": null,
      "outputs": []
    },
    {
      "cell_type": "markdown",
      "source": [
        "# 1行ずつ処理 - for 文を使うだけ\n",
        "\n",
        "\n",
        "# N M\n",
        "# a1 b1\n",
        "# ⋮⋮\n",
        "# aM bM\n",
        "\n",
        "# 4 3\n",
        "# 1 2\n",
        "# 2 3\n",
        "# 1 4"
      ],
      "metadata": {
        "id": "0dqOynJMLF4M"
      }
    },
    {
      "cell_type": "code",
      "source": [
        "N, M = map(int, input().split())\n",
        "for _ in range(M):\n",
        "    a, b = map(int, input().split())\n",
        "    # 処理"
      ],
      "metadata": {
        "id": "fLrhCHaLKOgE"
      },
      "execution_count": null,
      "outputs": []
    },
    {
      "cell_type": "markdown",
      "source": [
        "# 特定の文字列を読み込むまで読み込み続ける\n",
        "\n",
        "# a1\n",
        "# a2\n",
        "# ⋮⋮\n",
        "# −1"
      ],
      "metadata": {
        "id": "UWTfen6FLagB"
      }
    },
    {
      "cell_type": "code",
      "source": [
        "for e in iter(input, '-1'):  # 「'-1'」の部分を問題に応じて変更します\n",
        "    # 処理"
      ],
      "metadata": {
        "id": "EVFNrnw0LaBM"
      },
      "execution_count": null,
      "outputs": []
    },
    {
      "cell_type": "markdown",
      "source": [
        "# 決まった数の整数\n",
        "\n",
        "# A B C X\n",
        "\n"
      ],
      "metadata": {
        "id": "Hg-q7G5lML3y"
      }
    },
    {
      "cell_type": "code",
      "source": [
        "A, B, C, X = map(int, input().split())"
      ],
      "metadata": {
        "id": "vIvRp98CKOeV"
      },
      "execution_count": null,
      "outputs": []
    },
    {
      "cell_type": "markdown",
      "source": [
        "# 決まった数の整数\n",
        "\n",
        "# A\n",
        "# B\n",
        "# C\n",
        "# X"
      ],
      "metadata": {
        "id": "0dDTAM7HMWPG"
      }
    },
    {
      "cell_type": "code",
      "source": [
        "A, B, C, X = [int(input()) for _ in range(4)]"
      ],
      "metadata": {
        "id": "DZY7_YTFKOcB"
      },
      "execution_count": null,
      "outputs": []
    }
  ]
}
