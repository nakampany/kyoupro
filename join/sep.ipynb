{
  "nbformat": 4,
  "nbformat_minor": 0,
  "metadata": {
    "colab": {
      "provenance": [],
      "include_colab_link": true
    },
    "kernelspec": {
      "name": "python3",
      "display_name": "Python 3"
    },
    "language_info": {
      "name": "python"
    }
  },
  "cells": [
    {
      "cell_type": "markdown",
      "metadata": {
        "id": "view-in-github",
        "colab_type": "text"
      },
      "source": [
        "<a href=\"https://colab.research.google.com/github/nakampany/kyoupro/blob/main/join/sep.ipynb\" target=\"_parent\"><img src=\"https://colab.research.google.com/assets/colab-badge.svg\" alt=\"Open In Colab\"/></a>"
      ]
    },
    {
      "cell_type": "markdown",
      "source": [
        "# 文字列のリスト（配列）を連結・結合: join()\n",
        "\n",
        "# '間に挿入する文字列'.join([連結したい文字列のリスト])\n",
        "\n",
        "# l = ['aaa', 'bbb', 'ccc']"
      ],
      "metadata": {
        "id": "nSclSRwvOgRC"
      }
    },
    {
      "cell_type": "code",
      "execution_count": null,
      "metadata": {
        "id": "ReNyd_-NOc2C"
      },
      "outputs": [],
      "source": [
        "\n",
        "s = ''.join(l)\n",
        "print(s)\n",
        "# aaabbbccc\n",
        "\n",
        "s = ','.join(l)\n",
        "print(s)\n",
        "# aaa,bbb,ccc\n",
        "\n",
        "s = '-'.join(l)\n",
        "print(s)\n",
        "# aaa-bbb-ccc\n",
        "\n",
        "s = '\\n'.join(l)\n",
        "print(s)\n",
        "# aaa\n",
        "# bbb\n",
        "# ccc"
      ]
    },
    {
      "cell_type": "markdown",
      "source": [
        "# print() 関数内でカンマを使っても、スペースができない方法\n",
        "\n",
        "# これはテストです"
      ],
      "metadata": {
        "id": "PFhaloAcO6Jo"
      }
    },
    {
      "cell_type": "code",
      "source": [
        "print('これは' , 'テスト' , 'です')\n",
        "# これは テスト です"
      ],
      "metadata": {
        "id": "9fTQBOWuPcHB"
      },
      "execution_count": null,
      "outputs": []
    },
    {
      "cell_type": "code",
      "source": [
        "print('これは', 'テスト', 'です', sep='') \n",
        "# これはテストです"
      ],
      "metadata": {
        "id": "kgb_pV54O7pV"
      },
      "execution_count": null,
      "outputs": []
    }
  ]
}