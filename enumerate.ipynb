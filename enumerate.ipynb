{
  "nbformat": 4,
  "nbformat_minor": 0,
  "metadata": {
    "colab": {
      "provenance": [],
      "authorship_tag": "ABX9TyMWGNHB7/1BzTFYao5/bmvc",
      "include_colab_link": true
    },
    "kernelspec": {
      "name": "python3",
      "display_name": "Python 3"
    },
    "language_info": {
      "name": "python"
    }
  },
  "cells": [
    {
      "cell_type": "markdown",
      "metadata": {
        "id": "view-in-github",
        "colab_type": "text"
      },
      "source": [
        "<a href=\"https://colab.research.google.com/github/nakampany/kyoupro/blob/main/enumerate.ipynb\" target=\"_parent\"><img src=\"https://colab.research.google.com/assets/colab-badge.svg\" alt=\"Open In Colab\"/></a>"
      ]
    },
    {
      "cell_type": "markdown",
      "source": [
        "# 0 Alice\n",
        "# 1 Bob\n",
        "# 2 Charlie"
      ],
      "metadata": {
        "id": "4u6tZ7XnzWS8"
      }
    },
    {
      "cell_type": "code",
      "execution_count": null,
      "metadata": {
        "colab": {
          "base_uri": "https://localhost:8080/"
        },
        "id": "icgJ3B0CzH0-",
        "outputId": "04dd58fb-99f2-4767-c9c4-ea3e4f87641e"
      },
      "outputs": [
        {
          "output_type": "stream",
          "name": "stdout",
          "text": [
            "0 Alice\n",
            "1 Bob\n",
            "2 Charlie\n"
          ]
        }
      ],
      "source": [
        "l = ['Alice', 'Bob', 'Charlie']\n",
        "\n",
        "for i, name in enumerate(l):\n",
        "    print(i, name)"
      ]
    },
    {
      "cell_type": "code",
      "source": [
        "for i, name in enumerate(l, 42):\n",
        "    print(i, name)"
      ],
      "metadata": {
        "colab": {
          "base_uri": "https://localhost:8080/"
        },
        "id": "FZPZbIOYzPH4",
        "outputId": "a8af2d3d-97af-4207-8514-48b3c5b93a61"
      },
      "execution_count": null,
      "outputs": [
        {
          "output_type": "stream",
          "name": "stdout",
          "text": [
            "42 Alice\n",
            "43 Bob\n",
            "44 Charlie\n"
          ]
        }
      ]
    },
    {
      "cell_type": "code",
      "source": [
        "for i, name in enumerate(l, 1):\n",
        "    print(i, name)"
      ],
      "metadata": {
        "colab": {
          "base_uri": "https://localhost:8080/"
        },
        "id": "s3Jz7VzszmNo",
        "outputId": "70c5a5cb-9ac4-4a57-a2f5-0e74697e3871"
      },
      "execution_count": null,
      "outputs": [
        {
          "output_type": "stream",
          "name": "stdout",
          "text": [
            "1 Alice\n",
            "2 Bob\n",
            "3 Charlie\n"
          ]
        }
      ]
    },
    {
      "cell_type": "markdown",
      "source": [
        "# 0 a\n",
        "# 1 b\n",
        "# 2 c"
      ],
      "metadata": {
        "id": "NU8wwaP10CfI"
      }
    },
    {
      "cell_type": "code",
      "source": [
        "d = {'a':9, 'b':8, 'c':7} # 辞書\n",
        "for i, name in enumerate(ｄ):\n",
        "    print(i, name)"
      ],
      "metadata": {
        "colab": {
          "base_uri": "https://localhost:8080/"
        },
        "id": "jrDb9pszz87m",
        "outputId": "fa80ae70-9ac6-412f-e8ad-b5499ce6a721"
      },
      "execution_count": null,
      "outputs": [
        {
          "output_type": "stream",
          "name": "stdout",
          "text": [
            "0 a\n",
            "1 b\n",
            "2 c\n"
          ]
        }
      ]
    },
    {
      "cell_type": "markdown",
      "source": [
        "# 0 p\n",
        "# 1 y\n",
        "# 2 t\n",
        "# 3 h\n",
        "# 4 o\n",
        "# 5 n"
      ],
      "metadata": {
        "id": "9y_rlWKg0iDi"
      }
    },
    {
      "cell_type": "code",
      "source": [
        "str = 'python'\n",
        "for i, v in enumerate(str):\n",
        "  print(i, v)"
      ],
      "metadata": {
        "colab": {
          "base_uri": "https://localhost:8080/"
        },
        "id": "3bJuQjxV0MMi",
        "outputId": "2e05f4a4-4195-4358-cc04-7e0befc95e8f"
      },
      "execution_count": null,
      "outputs": [
        {
          "output_type": "stream",
          "name": "stdout",
          "text": [
            "0 p\n",
            "1 y\n",
            "2 t\n",
            "3 h\n",
            "4 o\n",
            "5 n\n"
          ]
        }
      ]
    }
  ]
}